{
  "nbformat": 4,
  "nbformat_minor": 0,
  "metadata": {
    "colab": {
      "name": "ExploratoryData_Analysis-Project2.ipynb",
      "provenance": [],
      "authorship_tag": "ABX9TyNGRailbJyghAqlgTy8xZ29",
      "include_colab_link": true
    },
    "kernelspec": {
      "name": "python3",
      "display_name": "Python 3"
    },
    "language_info": {
      "name": "python"
    }
  },
  "cells": [
    {
      "cell_type": "markdown",
      "metadata": {
        "id": "view-in-github",
        "colab_type": "text"
      },
      "source": [
        "<a href=\"https://colab.research.google.com/github/alirustama/Data-Analyst/blob/master/ExploratoryData_Analysis_Project2.ipynb\" target=\"_parent\"><img src=\"https://colab.research.google.com/assets/colab-badge.svg\" alt=\"Open In Colab\"/></a>"
      ]
    },
    {
      "cell_type": "code",
      "metadata": {
        "colab": {
          "base_uri": "https://localhost:8080/"
        },
        "id": "62Nc7v_a93U0",
        "outputId": "d3ba956e-fb79-47f5-8b43-1a13e0fdb0e4"
      },
      "source": [
        "import pandas as pd\n",
        "import matplotlib as plt\n",
        "ads= pd.read_csv('data.csv')\n",
        "ads.info()"
      ],
      "execution_count": null,
      "outputs": [
        {
          "output_type": "stream",
          "name": "stdout",
          "text": [
            "<class 'pandas.core.frame.DataFrame'>\n",
            "RangeIndex: 4571 entries, 0 to 4570\n",
            "Data columns (total 9 columns):\n",
            " #   Column       Non-Null Count  Dtype  \n",
            "---  ------       --------------  -----  \n",
            " 0   date         4571 non-null   object \n",
            " 1   campaign     4571 non-null   object \n",
            " 2   adgroup      4571 non-null   object \n",
            " 3   ad           4571 non-null   object \n",
            " 4   impressions  4571 non-null   int64  \n",
            " 5   clicks       4571 non-null   int64  \n",
            " 6   cost         4571 non-null   float64\n",
            " 7   conversions  4571 non-null   int64  \n",
            " 8   revenue      4571 non-null   float64\n",
            "dtypes: float64(2), int64(3), object(4)\n",
            "memory usage: 321.5+ KB\n"
          ]
        }
      ]
    },
    {
      "cell_type": "code",
      "metadata": {
        "colab": {
          "base_uri": "https://localhost:8080/",
          "height": 347
        },
        "id": "AoUWTPRkGssp",
        "outputId": "60bf137c-41bc-45ed-9ef4-4255fd2f5ea5"
      },
      "source": [
        "ads.head(10)"
      ],
      "execution_count": null,
      "outputs": [
        {
          "output_type": "execute_result",
          "data": {
            "text/html": [
              "<div>\n",
              "<style scoped>\n",
              "    .dataframe tbody tr th:only-of-type {\n",
              "        vertical-align: middle;\n",
              "    }\n",
              "\n",
              "    .dataframe tbody tr th {\n",
              "        vertical-align: top;\n",
              "    }\n",
              "\n",
              "    .dataframe thead th {\n",
              "        text-align: right;\n",
              "    }\n",
              "</style>\n",
              "<table border=\"1\" class=\"dataframe\">\n",
              "  <thead>\n",
              "    <tr style=\"text-align: right;\">\n",
              "      <th></th>\n",
              "      <th>date</th>\n",
              "      <th>campaign</th>\n",
              "      <th>adgroup</th>\n",
              "      <th>ad</th>\n",
              "      <th>impressions</th>\n",
              "      <th>clicks</th>\n",
              "      <th>cost</th>\n",
              "      <th>conversions</th>\n",
              "      <th>revenue</th>\n",
              "    </tr>\n",
              "  </thead>\n",
              "  <tbody>\n",
              "    <tr>\n",
              "      <th>0</th>\n",
              "      <td>01-08-2020</td>\n",
              "      <td>campaign 1</td>\n",
              "      <td>adgroup 1</td>\n",
              "      <td>ad 1</td>\n",
              "      <td>24</td>\n",
              "      <td>6</td>\n",
              "      <td>0.08</td>\n",
              "      <td>0</td>\n",
              "      <td>0.00</td>\n",
              "    </tr>\n",
              "    <tr>\n",
              "      <th>1</th>\n",
              "      <td>01-08-2020</td>\n",
              "      <td>campaign 1</td>\n",
              "      <td>adgroup 2</td>\n",
              "      <td>ad 1</td>\n",
              "      <td>1</td>\n",
              "      <td>0</td>\n",
              "      <td>0.00</td>\n",
              "      <td>0</td>\n",
              "      <td>0.00</td>\n",
              "    </tr>\n",
              "    <tr>\n",
              "      <th>2</th>\n",
              "      <td>01-08-2020</td>\n",
              "      <td>campaign 1</td>\n",
              "      <td>adgroup 3</td>\n",
              "      <td>ad 1</td>\n",
              "      <td>13</td>\n",
              "      <td>4</td>\n",
              "      <td>0.04</td>\n",
              "      <td>0</td>\n",
              "      <td>0.00</td>\n",
              "    </tr>\n",
              "    <tr>\n",
              "      <th>3</th>\n",
              "      <td>01-08-2020</td>\n",
              "      <td>campaign 1</td>\n",
              "      <td>adgroup 4</td>\n",
              "      <td>ad 1</td>\n",
              "      <td>5</td>\n",
              "      <td>4</td>\n",
              "      <td>0.08</td>\n",
              "      <td>0</td>\n",
              "      <td>0.00</td>\n",
              "    </tr>\n",
              "    <tr>\n",
              "      <th>4</th>\n",
              "      <td>01-08-2020</td>\n",
              "      <td>campaign 1</td>\n",
              "      <td>adgroup 1</td>\n",
              "      <td>ad 2</td>\n",
              "      <td>247</td>\n",
              "      <td>126</td>\n",
              "      <td>1.29</td>\n",
              "      <td>4</td>\n",
              "      <td>925.71</td>\n",
              "    </tr>\n",
              "    <tr>\n",
              "      <th>5</th>\n",
              "      <td>01-08-2020</td>\n",
              "      <td>campaign 1</td>\n",
              "      <td>adgroup 2</td>\n",
              "      <td>ad 2</td>\n",
              "      <td>7</td>\n",
              "      <td>2</td>\n",
              "      <td>0.04</td>\n",
              "      <td>0</td>\n",
              "      <td>0.00</td>\n",
              "    </tr>\n",
              "    <tr>\n",
              "      <th>6</th>\n",
              "      <td>01-08-2020</td>\n",
              "      <td>campaign 1</td>\n",
              "      <td>adgroup 4</td>\n",
              "      <td>ad 2</td>\n",
              "      <td>6</td>\n",
              "      <td>3</td>\n",
              "      <td>0.05</td>\n",
              "      <td>0</td>\n",
              "      <td>0.00</td>\n",
              "    </tr>\n",
              "    <tr>\n",
              "      <th>7</th>\n",
              "      <td>01-08-2020</td>\n",
              "      <td>campaign 1</td>\n",
              "      <td>adgroup 1</td>\n",
              "      <td>ad 3</td>\n",
              "      <td>129</td>\n",
              "      <td>52</td>\n",
              "      <td>0.58</td>\n",
              "      <td>0</td>\n",
              "      <td>0.00</td>\n",
              "    </tr>\n",
              "    <tr>\n",
              "      <th>8</th>\n",
              "      <td>01-08-2020</td>\n",
              "      <td>campaign 1</td>\n",
              "      <td>adgroup 3</td>\n",
              "      <td>ad 3</td>\n",
              "      <td>104</td>\n",
              "      <td>56</td>\n",
              "      <td>0.56</td>\n",
              "      <td>0</td>\n",
              "      <td>0.00</td>\n",
              "    </tr>\n",
              "    <tr>\n",
              "      <th>9</th>\n",
              "      <td>01-08-2020</td>\n",
              "      <td>campaign 1</td>\n",
              "      <td>adgroup 4</td>\n",
              "      <td>ad 3</td>\n",
              "      <td>6</td>\n",
              "      <td>5</td>\n",
              "      <td>0.05</td>\n",
              "      <td>0</td>\n",
              "      <td>0.00</td>\n",
              "    </tr>\n",
              "  </tbody>\n",
              "</table>\n",
              "</div>"
            ],
            "text/plain": [
              "         date    campaign    adgroup    ad  ...  clicks  cost  conversions  revenue\n",
              "0  01-08-2020  campaign 1  adgroup 1  ad 1  ...       6  0.08            0     0.00\n",
              "1  01-08-2020  campaign 1  adgroup 2  ad 1  ...       0  0.00            0     0.00\n",
              "2  01-08-2020  campaign 1  adgroup 3  ad 1  ...       4  0.04            0     0.00\n",
              "3  01-08-2020  campaign 1  adgroup 4  ad 1  ...       4  0.08            0     0.00\n",
              "4  01-08-2020  campaign 1  adgroup 1  ad 2  ...     126  1.29            4   925.71\n",
              "5  01-08-2020  campaign 1  adgroup 2  ad 2  ...       2  0.04            0     0.00\n",
              "6  01-08-2020  campaign 1  adgroup 4  ad 2  ...       3  0.05            0     0.00\n",
              "7  01-08-2020  campaign 1  adgroup 1  ad 3  ...      52  0.58            0     0.00\n",
              "8  01-08-2020  campaign 1  adgroup 3  ad 3  ...      56  0.56            0     0.00\n",
              "9  01-08-2020  campaign 1  adgroup 4  ad 3  ...       5  0.05            0     0.00\n",
              "\n",
              "[10 rows x 9 columns]"
            ]
          },
          "metadata": {},
          "execution_count": 5
        }
      ]
    },
    {
      "cell_type": "code",
      "metadata": {
        "colab": {
          "base_uri": "https://localhost:8080/",
          "height": 347
        },
        "id": "cz8p-nQrGmxI",
        "outputId": "d406944b-1c25-48b0-c8ea-d48edee18066"
      },
      "source": [
        "ads.tail(10)"
      ],
      "execution_count": null,
      "outputs": [
        {
          "output_type": "execute_result",
          "data": {
            "text/html": [
              "<div>\n",
              "<style scoped>\n",
              "    .dataframe tbody tr th:only-of-type {\n",
              "        vertical-align: middle;\n",
              "    }\n",
              "\n",
              "    .dataframe tbody tr th {\n",
              "        vertical-align: top;\n",
              "    }\n",
              "\n",
              "    .dataframe thead th {\n",
              "        text-align: right;\n",
              "    }\n",
              "</style>\n",
              "<table border=\"1\" class=\"dataframe\">\n",
              "  <thead>\n",
              "    <tr style=\"text-align: right;\">\n",
              "      <th></th>\n",
              "      <th>date</th>\n",
              "      <th>campaign</th>\n",
              "      <th>adgroup</th>\n",
              "      <th>ad</th>\n",
              "      <th>impressions</th>\n",
              "      <th>clicks</th>\n",
              "      <th>cost</th>\n",
              "      <th>conversions</th>\n",
              "      <th>revenue</th>\n",
              "    </tr>\n",
              "  </thead>\n",
              "  <tbody>\n",
              "    <tr>\n",
              "      <th>4561</th>\n",
              "      <td>28-02-2021</td>\n",
              "      <td>campaign 1</td>\n",
              "      <td>adgroup 2</td>\n",
              "      <td>ad 7</td>\n",
              "      <td>5</td>\n",
              "      <td>2</td>\n",
              "      <td>0.02</td>\n",
              "      <td>0</td>\n",
              "      <td>0.00</td>\n",
              "    </tr>\n",
              "    <tr>\n",
              "      <th>4562</th>\n",
              "      <td>28-02-2021</td>\n",
              "      <td>campaign 1</td>\n",
              "      <td>adgroup 1</td>\n",
              "      <td>ad 7</td>\n",
              "      <td>78</td>\n",
              "      <td>37</td>\n",
              "      <td>0.50</td>\n",
              "      <td>2</td>\n",
              "      <td>243.08</td>\n",
              "    </tr>\n",
              "    <tr>\n",
              "      <th>4563</th>\n",
              "      <td>28-02-2021</td>\n",
              "      <td>campaign 1</td>\n",
              "      <td>adgroup 3</td>\n",
              "      <td>ad 7</td>\n",
              "      <td>32</td>\n",
              "      <td>14</td>\n",
              "      <td>0.15</td>\n",
              "      <td>0</td>\n",
              "      <td>0.00</td>\n",
              "    </tr>\n",
              "    <tr>\n",
              "      <th>4564</th>\n",
              "      <td>28-02-2021</td>\n",
              "      <td>campaign 1</td>\n",
              "      <td>adgroup 3</td>\n",
              "      <td>ad 8</td>\n",
              "      <td>261</td>\n",
              "      <td>106</td>\n",
              "      <td>1.37</td>\n",
              "      <td>3</td>\n",
              "      <td>404.17</td>\n",
              "    </tr>\n",
              "    <tr>\n",
              "      <th>4565</th>\n",
              "      <td>28-02-2021</td>\n",
              "      <td>campaign 1</td>\n",
              "      <td>adgroup 1</td>\n",
              "      <td>ad 10</td>\n",
              "      <td>10</td>\n",
              "      <td>2</td>\n",
              "      <td>0.02</td>\n",
              "      <td>0</td>\n",
              "      <td>0.00</td>\n",
              "    </tr>\n",
              "    <tr>\n",
              "      <th>4566</th>\n",
              "      <td>28-02-2021</td>\n",
              "      <td>campaign 1</td>\n",
              "      <td>adgroup 3</td>\n",
              "      <td>ad 55</td>\n",
              "      <td>19</td>\n",
              "      <td>6</td>\n",
              "      <td>0.07</td>\n",
              "      <td>0</td>\n",
              "      <td>0.00</td>\n",
              "    </tr>\n",
              "    <tr>\n",
              "      <th>4567</th>\n",
              "      <td>28-02-2021</td>\n",
              "      <td>campaign 1</td>\n",
              "      <td>adgroup 4</td>\n",
              "      <td>ad 55</td>\n",
              "      <td>1</td>\n",
              "      <td>0</td>\n",
              "      <td>0.00</td>\n",
              "      <td>0</td>\n",
              "      <td>0.00</td>\n",
              "    </tr>\n",
              "    <tr>\n",
              "      <th>4568</th>\n",
              "      <td>28-02-2021</td>\n",
              "      <td>campaign 1</td>\n",
              "      <td>adgroup 3</td>\n",
              "      <td>ad 56</td>\n",
              "      <td>16</td>\n",
              "      <td>8</td>\n",
              "      <td>0.12</td>\n",
              "      <td>1</td>\n",
              "      <td>93.20</td>\n",
              "    </tr>\n",
              "    <tr>\n",
              "      <th>4569</th>\n",
              "      <td>28-02-2021</td>\n",
              "      <td>campaign 1</td>\n",
              "      <td>adgroup 1</td>\n",
              "      <td>ad 56</td>\n",
              "      <td>37</td>\n",
              "      <td>13</td>\n",
              "      <td>0.23</td>\n",
              "      <td>0</td>\n",
              "      <td>0.00</td>\n",
              "    </tr>\n",
              "    <tr>\n",
              "      <th>4570</th>\n",
              "      <td>28-02-2021</td>\n",
              "      <td>campaign 1</td>\n",
              "      <td>adgroup 1</td>\n",
              "      <td>ad 55</td>\n",
              "      <td>19</td>\n",
              "      <td>10</td>\n",
              "      <td>0.14</td>\n",
              "      <td>0</td>\n",
              "      <td>0.00</td>\n",
              "    </tr>\n",
              "  </tbody>\n",
              "</table>\n",
              "</div>"
            ],
            "text/plain": [
              "            date    campaign    adgroup  ...  cost  conversions  revenue\n",
              "4561  28-02-2021  campaign 1  adgroup 2  ...  0.02            0     0.00\n",
              "4562  28-02-2021  campaign 1  adgroup 1  ...  0.50            2   243.08\n",
              "4563  28-02-2021  campaign 1  adgroup 3  ...  0.15            0     0.00\n",
              "4564  28-02-2021  campaign 1  adgroup 3  ...  1.37            3   404.17\n",
              "4565  28-02-2021  campaign 1  adgroup 1  ...  0.02            0     0.00\n",
              "4566  28-02-2021  campaign 1  adgroup 3  ...  0.07            0     0.00\n",
              "4567  28-02-2021  campaign 1  adgroup 4  ...  0.00            0     0.00\n",
              "4568  28-02-2021  campaign 1  adgroup 3  ...  0.12            1    93.20\n",
              "4569  28-02-2021  campaign 1  adgroup 1  ...  0.23            0     0.00\n",
              "4570  28-02-2021  campaign 1  adgroup 1  ...  0.14            0     0.00\n",
              "\n",
              "[10 rows x 9 columns]"
            ]
          },
          "metadata": {},
          "execution_count": 4
        }
      ]
    },
    {
      "cell_type": "code",
      "metadata": {
        "colab": {
          "base_uri": "https://localhost:8080/",
          "height": 287
        },
        "id": "_tE6OG89HAVS",
        "outputId": "9707680c-bf5a-4785-da60-5d2e21567c92"
      },
      "source": [
        "ads.describe()"
      ],
      "execution_count": null,
      "outputs": [
        {
          "output_type": "execute_result",
          "data": {
            "text/html": [
              "<div>\n",
              "<style scoped>\n",
              "    .dataframe tbody tr th:only-of-type {\n",
              "        vertical-align: middle;\n",
              "    }\n",
              "\n",
              "    .dataframe tbody tr th {\n",
              "        vertical-align: top;\n",
              "    }\n",
              "\n",
              "    .dataframe thead th {\n",
              "        text-align: right;\n",
              "    }\n",
              "</style>\n",
              "<table border=\"1\" class=\"dataframe\">\n",
              "  <thead>\n",
              "    <tr style=\"text-align: right;\">\n",
              "      <th></th>\n",
              "      <th>impressions</th>\n",
              "      <th>clicks</th>\n",
              "      <th>cost</th>\n",
              "      <th>conversions</th>\n",
              "      <th>revenue</th>\n",
              "    </tr>\n",
              "  </thead>\n",
              "  <tbody>\n",
              "    <tr>\n",
              "      <th>count</th>\n",
              "      <td>4571.000000</td>\n",
              "      <td>4571.000000</td>\n",
              "      <td>4571.000000</td>\n",
              "      <td>4571.000000</td>\n",
              "      <td>4571.000000</td>\n",
              "    </tr>\n",
              "    <tr>\n",
              "      <th>mean</th>\n",
              "      <td>92.635747</td>\n",
              "      <td>43.340844</td>\n",
              "      <td>2.800834</td>\n",
              "      <td>1.339094</td>\n",
              "      <td>231.865340</td>\n",
              "    </tr>\n",
              "    <tr>\n",
              "      <th>std</th>\n",
              "      <td>198.349737</td>\n",
              "      <td>100.164913</td>\n",
              "      <td>14.361618</td>\n",
              "      <td>5.223922</td>\n",
              "      <td>1091.742763</td>\n",
              "    </tr>\n",
              "    <tr>\n",
              "      <th>min</th>\n",
              "      <td>1.000000</td>\n",
              "      <td>0.000000</td>\n",
              "      <td>0.000000</td>\n",
              "      <td>0.000000</td>\n",
              "      <td>0.000000</td>\n",
              "    </tr>\n",
              "    <tr>\n",
              "      <th>25%</th>\n",
              "      <td>6.000000</td>\n",
              "      <td>2.000000</td>\n",
              "      <td>0.040000</td>\n",
              "      <td>0.000000</td>\n",
              "      <td>0.000000</td>\n",
              "    </tr>\n",
              "    <tr>\n",
              "      <th>50%</th>\n",
              "      <td>16.000000</td>\n",
              "      <td>7.000000</td>\n",
              "      <td>0.210000</td>\n",
              "      <td>0.000000</td>\n",
              "      <td>0.000000</td>\n",
              "    </tr>\n",
              "    <tr>\n",
              "      <th>75%</th>\n",
              "      <td>84.000000</td>\n",
              "      <td>38.000000</td>\n",
              "      <td>1.350000</td>\n",
              "      <td>1.000000</td>\n",
              "      <td>92.600000</td>\n",
              "    </tr>\n",
              "    <tr>\n",
              "      <th>max</th>\n",
              "      <td>3239.000000</td>\n",
              "      <td>1771.000000</td>\n",
              "      <td>531.250000</td>\n",
              "      <td>94.000000</td>\n",
              "      <td>20515.410000</td>\n",
              "    </tr>\n",
              "  </tbody>\n",
              "</table>\n",
              "</div>"
            ],
            "text/plain": [
              "       impressions       clicks         cost  conversions       revenue\n",
              "count  4571.000000  4571.000000  4571.000000  4571.000000   4571.000000\n",
              "mean     92.635747    43.340844     2.800834     1.339094    231.865340\n",
              "std     198.349737   100.164913    14.361618     5.223922   1091.742763\n",
              "min       1.000000     0.000000     0.000000     0.000000      0.000000\n",
              "25%       6.000000     2.000000     0.040000     0.000000      0.000000\n",
              "50%      16.000000     7.000000     0.210000     0.000000      0.000000\n",
              "75%      84.000000    38.000000     1.350000     1.000000     92.600000\n",
              "max    3239.000000  1771.000000   531.250000    94.000000  20515.410000"
            ]
          },
          "metadata": {},
          "execution_count": 6
        }
      ]
    },
    {
      "cell_type": "code",
      "metadata": {
        "id": "bo4Q16_aIIr4"
      },
      "source": [
        "\n",
        "import pandas as pd\n",
        "from sklearn.model_selection import train_test_split\n",
        "from sklearn.preprocessing import StandardScaler\n",
        "\n",
        "def data_pipeline(data, output):\n",
        "    \"\"\"\n",
        "    Preprocessing pipeline part 1: Transform full data frame\n",
        "    Arguments: Pandas dataframe, output column (dependent variable)\n",
        "    Returns: Modified dataframe\n",
        "    \"\"\"\n",
        "    data = cost_per_metric(data, output) if 'cost_per' in output \\\n",
        "                                         else data[data[output] > 0]\n",
        "    data = drop_columns(data, output, threshold=.5)\n",
        "    data = data.dropna(axis='index')\n",
        "    data = create_other_buckets(data, threshold=.1)\n",
        "    data = one_hot_encode(data)\n",
        "    return data\n",
        "\n",
        "def split_pipeline(data, output):\n",
        "    \"\"\"\n",
        "    Preprocessing pipeline part 2: Split data into variables\n",
        "    Arguments: Pandas dataframe, output column (dependent variable)\n",
        "    Returns: List of scaled and unscaled dependent and independent variables\n",
        "    \"\"\"\n",
        "    y, X = data.iloc[:, 0], data.iloc[:, 1:]\n",
        "    X_train, X_test, y_train, y_test = train_test_split(\n",
        "        data.drop([output], axis=1), data[output], test_size=.2, random_state=1)\n",
        "    X_scaled, y_scaled, X_train_scaled, y_train_scaled, X_test_scaled, \\\n",
        "        y_scaler = scale(X, y, X_train, y_train, X_test)\n",
        "    return [X, y, X_train, y_train, X_tesmodel = sm.OLS(self.y_train, sm.add_constant(self.X_train)).fit()\n",
        "print(model.summary())t, y_test, X_scaled, y_scaled,\n",
        "            X_train_scaled, y_train_scaled, X_test_scaled, y_scaler]\n",
        "\n",
        "def cost_per_metric(data, output):\n",
        "    \"\"\"Create 'cost_per_...' column and remove data where output is 0 or NaN\"\"\"\n",
        "    metric = output.replace('cost_per_', '') + 's'\n",
        "    data = data[data[metric] > 0]\n",
        "    data.insert(0, output, [row['cost'] / row[metric]\n",
        "                            for index, row in data.iterrows()])\n",
        "    return data\n",
        "\n",
        "def drop_columns(data, output, threshold=0.5):\n",
        "    \"\"\"Drop columns with more than threshold missing data\"\"\"\n",
        "    rows = data[output].count()\n",
        "    for column in list(data.columns):\n",
        "        if data[column].count() < rows * threshold:\n",
        "            data = data.drop([column], axis=1)\n",
        "    return data\n",
        "\n",
        "def create_other_buckets(data, threshold=0.1):\n",
        "    \"\"\"Put rare categorical values into other bucket\"\"\"\n",
        "    categoricals = list(data.select_dtypes(include='object').columns)\n",
        "    for column in categoricals:\n",
        "        results = data[column].count()\n",
        "        groups = data.groupby([column])[column].count()\n",
        "        for bucket in groups.index:\n",
        "            if groups.loc[bucket] < results * threshold:\n",
        "                data.loc[data[column] =g=sns.heatmap(df[[\"Impressions\",\"Clicks\",\"Spent\",\"Total_Conversion\",\"Approved_Conversion\"]].corr(),annot=True ,fmt=\".2f\", cmap=\"coolwarm\")= bucket, column] = 'other'\n",
        "    return data\n",
        "\n",
        "def one_hot_encode(data):\n",
        "    \"\"\"One-hot encode categorical data\"\"\"\n",
        "    categoricals = list(data.select_dtypes(include='object').columns)\n",
        "    for column in categoricals:\n",
        "        if 'other' in data[column].unique():\n",
        "            data = pd.get_dummies(data, columns=[column], prefix=[column],\n",
        "                                  drop_first=False)\n",
        "            data = data.drop([column + '_other'], axis=1)\n",
        "        else:\n",
        "            data = pd.get_dummies(data, columns=[column], prefix=[column],\n",
        "                                  drop_first=True)\n",
        "    return data\n",
        "\n",
        "def scale(X, y, X_train, y_train, X_test):\n",
        "    \"\"\"Scale dependent and independent variables\"\"\"\n",
        "    X_scaler, y_scaler = StandardScaler(), StandardScaler()\n",
        "\n",
        "    X_scaled = X_scaler.fit_transform(X.values.astype(float))\n",
        "    y_scaled = y_scaler.fit_transform(\n",
        "        y.values.astype(float).reshape(-1, 1)).flatten()\n",
        "\n",
        "    X_train_scaled = pd.DataFrame(data=X_scaler.transform(\n",
        "        X_train.values.astype(float)), columns=X.columns)\n",
        "    y_train_scaled = y_scaler.transform(\n",
        "        y_train.values.astype(float).reshape(-1, 1)).flatten()\n",
        "\n",
        "    X_test_scaled = pd.DataFrame(data=X_scaler.transform(\n",
        "        X_test.values.astype(float)), columns=X.columns)\n",
        "\n",
        "    return [X_scaled, y_scaled, X_train_scaled, y_train_scaled,\n",
        "            X_test_scaled, y_scaler]\n"
      ],
      "execution_count": null,
      "outputs": []
    },
    {
      "cell_type": "code",
      "metadata": {
        "id": "P44G91xZK_tl"
      },
      "source": [
        "ads['CTR'] = (ads['clicks']/ads['impressions']*100)\n",
        "ads['CPC'] = ads['cost']/ads['clicks']"
      ],
      "execution_count": null,
      "outputs": []
    },
    {
      "cell_type": "code",
      "metadata": {
        "id": "bkzNmvjUMxPu"
      },
      "source": [
        "import matplotlib.pyplot as plt\n",
        "import seaborn as sns"
      ],
      "execution_count": null,
      "outputs": []
    },
    {
      "cell_type": "code",
      "metadata": {
        "colab": {
          "base_uri": "https://localhost:8080/",
          "height": 268
        },
        "id": "o6urZ4Q4V6gI",
        "outputId": "174de167-1969-4c82-f673-49b5aa5bbc95"
      },
      "source": [
        "g=sns.heatmap(ads[[\"impressions\",\"clicks\",\"cost\",\"conversions\",\"revenue\"]].corr(),annot=True ,fmt=\".2f\", cmap=\"coolwarm\")\n",
        "\n",
        "\n",
        "\n",
        "\n"
      ],
      "execution_count": null,
      "outputs": [
        {
          "output_type": "display_data",
          "data": {
            "image/png": "[encoded data removed]",
            "text/plain": [
              "<Figure size 432x288 with 2 Axes>"
            ]
          },
          "metadata": {
            "needs_background": "light"
          }
        }
      ]
    },
    {
      "cell_type": "code",
      "metadata": {
        "colab": {
          "base_uri": "https://localhost:8080/"
        },
        "id": "61Z--00tWOLZ",
        "outputId": "e080a3f0-532d-45b6-ce9d-663e835719db"
      },
      "source": [
        "ads[\"campaign\"].unique()"
      ],
      "execution_count": null,
      "outputs": [
        {
          "output_type": "execute_result",
          "data": {
            "text/plain": [
              "array(['campaign 1'], dtype=object)"
            ]
          },
          "metadata": {},
          "execution_count": 23
        }
      ]
    },
    {
      "cell_type": "code",
      "metadata": {
        "colab": {
          "base_uri": "https://localhost:8080/",
          "height": 294
        },
        "id": "O5YIcahbW_AB",
        "outputId": "d7fdf0ad-5116-4686-91f3-04ab335ab588"
      },
      "source": [
        "plt.scatter(ads[\"cost\"], ads[\"conversions\"])\n",
        "plt.title(\"Cost vs.Conversions\")\n",
        "plt.xlabel(\"cost\")\n",
        "plt.ylabel(\"conversions\")\n",
        "plt.show()"
      ],
      "execution_count": null,
      "outputs": [
        {
          "output_type": "display_data",
          "data": {
            "image/png": "[encoded data removed]",
            "text/plain": [
              "<Figure size 432x288 with 1 Axes>"
            ]
          },
          "metadata": {
            "needs_background": "light"
          }
        }
      ]
    },
    {
      "cell_type": "code",
      "metadata": {
        "colab": {
          "base_uri": "https://localhost:8080/",
          "height": 278
        },
        "id": "HqOVd2tIY_JN",
        "outputId": "108bab3f-9b76-446f-c4fd-daf02ad584a2"
      },
      "source": [
        "plt.hist(ads['impressions'], bins = 25)\n",
        "plt.xlabel(\"impressions\")\n",
        "plt.ylabel(\"Frequency\")\n",
        "plt.show()"
      ],
      "execution_count": null,
      "outputs": [
        {
          "output_type": "display_data",
          "data": {
            "image/png": "[encoded data removed]",
            "text/plain": [
              "<Figure size 432x288 with 1 Axes>"
            ]
          },
          "metadata": {
            "needs_background": "light"
          }
        }
      ]
    },
    {
      "cell_type": "code",
      "metadata": {
        "colab": {
          "base_uri": "https://localhost:8080/",
          "height": 294
        },
        "id": "_vCIUkkpaIPs",
        "outputId": "7cdd7748-6064-4b1d-bc70-93dd19b02f47"
      },
      "source": [
        "plt.scatter(ads[\"impressions\"], ads[\"conversions\"])\n",
        "plt.title(\"impressions vs. conversions\")\n",
        "plt.xlabel(\"impressions\")\n",
        "plt.ylabel(\"conversions\")\n",
        "plt.show()"
      ],
      "execution_count": null,
      "outputs": [
        {
          "output_type": "display_data",
          "data": {
            "image/png": "[encoded data removed]",
            "text/plain": [
              "<Figure size 432x288 with 1 Axes>"
            ]
          },
          "metadata": {
            "needs_background": "light"
          }
        }
      ]
    },
    {
      "cell_type": "code",
      "metadata": {
        "colab": {
          "base_uri": "https://localhost:8080/",
          "height": 278
        },
        "id": "FhlA2CUbafkc",
        "outputId": "c504dadf-02c1-4b6a-a379-9333434cde8c"
      },
      "source": [
        "plt.hist(ads['cost'], bins = 25)\n",
        "plt.xlabel(\"cost\")\n",
        "plt.ylabel(\"Frequency\")\n",
        "plt.show()"
      ],
      "execution_count": null,
      "outputs": [
        {
          "output_type": "display_data",
          "data": {
            "image/png": "[encoded data removed]",
            "text/plain": [
              "<Figure size 432x288 with 1 Axes>"
            ]
          },
          "metadata": {
            "needs_background": "light"
          }
        }
      ]
    },
    {
      "cell_type": "code",
      "metadata": {
        "colab": {
          "base_uri": "https://localhost:8080/",
          "height": 294
        },
        "id": "DxiIkdASa7QC",
        "outputId": "5bb1f957-cfd5-4db6-8c94-21779e85e431"
      },
      "source": [
        "plt.scatter(ads[\"cost\"], ads[\"conversions\"])\n",
        "plt.title(\"cost vs. Conversion\")\n",
        "plt.xlabel(\"cost\")\n",
        "plt.ylabel(\"Conversion\")\n",
        "plt.show()"
      ],
      "execution_count": null,
      "outputs": [
        {
          "output_type": "display_data",
          "data": {
            "image/png": "[encoded data removed]",
            "text/plain": [
              "<Figure size 432x288 with 1 Axes>"
            ]
          },
          "metadata": {
            "needs_background": "light"
          }
        }
      ]
    },
    {
      "cell_type": "code",
      "metadata": {
        "colab": {
          "base_uri": "https://localhost:8080/",
          "height": 278
        },
        "id": "lRNbZ_AJbHsl",
        "outputId": "75cd4f89-22b7-49a9-9e58-26d3997b719b"
      },
      "source": [
        "plt.hist(ads['impressions'], bins = 25)\n",
        "plt.xlabel(\"impressions\")correlation\n",
        "plt.ylabel(\"Frequency\")\n",
        "plt.show()"
      ],
      "execution_count": null,
      "outputs": [
        {
          "output_type": "display_data",
          "data": {
            "image/png": "[encoded data removed]",
            "text/plain": [
              "<Figure size 432x288 with 1 Axes>"
            ]
          },
          "metadata": {
            "needs_background": "light"
          }
        }
      ]
    },
    {
      "cell_type": "code",
      "metadata": {
        "colab": {
          "base_uri": "https://localhost:8080/",
          "height": 294
        },
        "id": "kthHxtMubXaz",
        "outputId": "ba84b51e-8131-4aa4-ec9f-2e4e12043e2a"
      },
      "source": [
        "plt.scatter(ads[\"impressions\"], ads[\"conversions\"])\n",
        "plt.title(\"impressions vs. Conversion\")\n",
        "plt.xlabel(\"impressions\")\n",
        "plt.ylabel(\"Conversions\")\n",
        "plt.show()"
      ],
      "execution_count": null,
      "outputs": [
        {
          "output_type": "display_data",
          "data": {
            "image/png": "[encoded data removed]",
            "text/plain": [
              "<Figure size 432x288 with 1 Axes>"
            ]
          },
          "metadata": {
            "needs_background": "light"
          }
        }
      ]
    },
    {
      "cell_type": "markdown",
      "metadata": {
        "id": "5xDoWeRprlzK"
      },
      "source": [
        "# **2. correlation**"
      ]
    },
    {
      "cell_type": "code",
      "metadata": {
        "id": "Ozo6-DUbb_ih"
      },
      "source": [
        "import warnings  \n",
        "warnings.filterwarnings('ignore')\n",
        "\n",
        "import numpy as np                               # vectors and matrices\n",
        "import pandas as pd                              # tables and data manipulations\n",
        "import matplotlib.pyplot as plt                  # plots\n",
        "import seaborn as sns                            # more plots\n",
        "\n",
        "from dateutil.relativedelta import relativedelta # working with dates with style\n",
        "from scipy.optimize import minimize              # for function minimization\n"
      ],
      "execution_count": 93,
      "outputs": []
    },
    {
      "cell_type": "code",
      "metadata": {
        "id": "__p2cQD8dfyQ"
      },
      "source": [
        "ads = pd.read_csv('data.csv', index_col=['date'], parse_dates=['date'])\n",
        "cost = pd.read_csv('data.csv', index_col=['date'], parse_dates=['date'])"
      ],
      "execution_count": null,
      "outputs": []
    },
    {
      "cell_type": "code",
      "metadata": {
        "colab": {
          "base_uri": "https://localhost:8080/"
        },
        "id": "Pg1OsVtFfOA3",
        "outputId": "9e87a939-2d24-438b-9c13-97bdfa179ae1"
      },
      "source": [
        "correlations = ads.corr()\n",
        "print(correlations)"
      ],
      "execution_count": null,
      "outputs": [
        {
          "output_type": "stream",
          "name": "stdout",
          "text": [
            "             impressions    clicks      cost  conversions   revenue\n",
            "impressions     1.000000  0.987514  0.682811     0.822149  0.759671\n",
            "clicks          0.987514  1.000000  0.719925     0.856941  0.798282\n",
            "cost            0.682811  0.719925  1.000000     0.672202  0.581662\n",
            "conversions     0.822149  0.856941  0.672202     1.000000  0.964096\n",
            "revenue         0.759671  0.798282  0.581662     0.964096  1.000000\n"
          ]
        }
      ]
    },
    {
      "cell_type": "code",
      "metadata": {
        "colab": {
          "base_uri": "https://localhost:8080/",
          "height": 197
        },
        "id": "Wsu5gidOgpO1",
        "outputId": "3568de4c-220f-4090-f883-ff8bd2f496e6"
      },
      "source": [
        "ads.corr()"
      ],
      "execution_count": null,
      "outputs": [
        {
          "output_type": "execute_result",
          "data": {
            "text/html": [
              "<div>\n",
              "<style scoped>\n",
              "    .dataframe tbody tr th:only-of-type {\n",
              "        vertical-align: middle;\n",
              "    }\n",
              "\n",
              "    .dataframe tbody tr th {\n",
              "        vertical-align: top;\n",
              "    }\n",
              "\n",
              "    .dataframe thead th {\n",
              "        text-align: right;\n",
              "    }\n",
              "</style>\n",
              "<table border=\"1\" class=\"dataframe\">\n",
              "  <thead>\n",
              "    <tr style=\"text-align: right;\">\n",
              "      <th></th>\n",
              "      <th>impressions</th>\n",
              "      <th>clicks</th>\n",
              "      <th>cost</th>\n",
              "      <th>conversions</th>\n",
              "      <th>revenue</th>\n",
              "    </tr>\n",
              "  </thead>\n",
              "  <tbody>\n",
              "    <tr>\n",
              "      <th>impressions</th>\n",
              "      <td>1.000000</td>\n",
              "      <td>0.987514</td>\n",
              "      <td>0.682811</td>\n",
              "      <td>0.822149</td>\n",
              "      <td>0.759671</td>\n",
              "    </tr>\n",
              "    <tr>\n",
              "      <th>clicks</th>\n",
              "      <td>0.987514</td>\n",
              "      <td>1.000000</td>\n",
              "      <td>0.719925</td>\n",
              "      <td>0.856941</td>\n",
              "      <td>0.798282</td>\n",
              "    </tr>\n",
              "    <tr>\n",
              "      <th>cost</th>\n",
              "      <td>0.682811</td>\n",
              "      <td>0.719925</td>\n",
              "      <td>1.000000</td>\n",
              "      <td>0.672202</td>\n",
              "      <td>0.581662</td>\n",
              "    </tr>\n",
              "    <tr>\n",
              "      <th>conversions</th>\n",
              "      <td>0.822149</td>\n",
              "      <td>0.856941</td>\n",
              "      <td>0.672202</td>\n",
              "      <td>1.000000</td>\n",
              "      <td>0.964096</td>\n",
              "    </tr>\n",
              "    <tr>\n",
              "      <th>revenue</th>\n",
              "      <td>0.759671</td>\n",
              "      <td>0.798282</td>\n",
              "      <td>0.581662</td>\n",
              "      <td>0.964096</td>\n",
              "      <td>1.000000</td>\n",
              "    </tr>\n",
              "  </tbody>\n",
              "</table>\n",
              "</div>"
            ],
            "text/plain": [
              "             impressions    clicks      cost  conversions   revenue\n",
              "impressions     1.000000  0.987514  0.682811     0.822149  0.759671\n",
              "clicks          0.987514  1.000000  0.719925     0.856941  0.798282\n",
              "cost            0.682811  0.719925  1.000000     0.672202  0.581662\n",
              "conversions     0.822149  0.856941  0.672202     1.000000  0.964096\n",
              "revenue         0.759671  0.798282  0.581662     0.964096  1.000000"
            ]
          },
          "metadata": {},
          "execution_count": 56
        }
      ]
    },
    {
      "cell_type": "code",
      "metadata": {
        "colab": {
          "base_uri": "https://localhost:8080/"
        },
        "id": "UoteN-HPg4Eg",
        "outputId": "6497dfed-630d-40ff-bec2-a7c7d4678791"
      },
      "source": [
        "print(correlations[\"cost\"])"
      ],
      "execution_count": null,
      "outputs": [
        {
          "output_type": "stream",
          "name": "stdout",
          "text": [
            "impressions    0.682811\n",
            "clicks         0.719925\n",
            "cost           1.000000\n",
            "conversions    0.672202\n",
            "revenue        0.581662\n",
            "Name: cost, dtype: float64\n"
          ]
        }
      ]
    },
    {
      "cell_type": "code",
      "metadata": {
        "colab": {
          "base_uri": "https://localhost:8080/",
          "height": 268
        },
        "id": "DURZipchhDue",
        "outputId": "3f64adec-c223-4fc6-ff28-14f3ff51c41b"
      },
      "source": [
        "sns.heatmap(correlations)\n",
        "plt.show()"
      ],
      "execution_count": null,
      "outputs": [
        {
          "output_type": "display_data",
          "data": {
            "image/png": "[encoded data removed]",
            "text/plain": [
              "<Figure size 432x288 with 2 Axes>"
            ]
          },
          "metadata": {
            "needs_background": "light"
          }
        }
      ]
    },
    {
      "cell_type": "code",
      "metadata": {
        "colab": {
          "base_uri": "https://localhost:8080/",
          "height": 278
        },
        "id": "gBInCmc3hR7z",
        "outputId": "e8bf920b-67f5-45d0-d603-53be0d29145b"
      },
      "source": [
        "\n",
        "\n",
        "sns.countplot(x='clicks',data=ads, palette='hls')\n",
        "plt.show();"
      ],
      "execution_count": null,
      "outputs": [
        {
          "output_type": "display_data",
          "data": {
            "image/png": "[encoded data removed]",
            "text/plain": [
              "<Figure size 432x288 with 1 Axes>"
            ]
          },
          "metadata": {
            "needs_background": "light"
          }
        }
      ]
    },
    {
      "cell_type": "code",
      "metadata": {
        "colab": {
          "base_uri": "https://localhost:8080/"
        },
        "id": "qGnSICLSh7QN",
        "outputId": "9039e411-f1bd-4fe4-cf52-7e1aed91e2d4"
      },
      "source": [
        "ads['clicks'].value_counts()/len(ads)"
      ],
      "execution_count": null,
      "outputs": [
        {
          "output_type": "execute_result",
          "data": {
            "text/plain": [
              "1       0.101510\n",
              "0       0.097134\n",
              "2       0.076788\n",
              "4       0.055130\n",
              "3       0.053818\n",
              "          ...   \n",
              "809     0.000219\n",
              "797     0.000219\n",
              "761     0.000219\n",
              "713     0.000219\n",
              "1177    0.000219\n",
              "Name: clicks, Length: 355, dtype: float64"
            ]
          },
          "metadata": {},
          "execution_count": 63
        }
      ]
    },
    {
      "cell_type": "code",
      "metadata": {
        "colab": {
          "base_uri": "https://localhost:8080/",
          "height": 391
        },
        "id": "-P7NVVEriNTN",
        "outputId": "27d1ebd9-203f-4043-bd95-5520245c0d3a"
      },
      "source": [
        "ads.groupby('date').agg({'clicks':'sum'}).plot(figsize=(12,6))\n",
        "plt.ylabel('Number of clicks')\n",
        "plt.title('Number of clicks by month');"
      ],
      "execution_count": null,
      "outputs": [
        {
          "output_type": "display_data",
          "data": {
            "image/png": "[encoded data removed]",
            "text/plain": [
              "<Figure size 864x432 with 1 Axes>"
            ]
          },
          "metadata": {
            "needs_background": "light"
          }
        }
      ]
    },
    {
      "cell_type": "code",
      "metadata": {
        "id": "Y5_bWnGWidxu"
      },
      "source": [
        "train['hour_of_day'] = train.hour.apply(lambda x: x.hour)\n",
        "train.groupby('hour_of_day').agg({'click':'sum'}).plot(figsize=(12,6))\n",
        "plt.ylabel('Number of clicks')\n",
        "plt.title('click trends by hour of day');"
      ],
      "execution_count": null,
      "outputs": []
    },
    {
      "cell_type": "code",
      "metadata": {
        "colab": {
          "base_uri": "https://localhost:8080/",
          "height": 391
        },
        "id": "UGMeZe8fjj92",
        "outputId": "132a464a-50b1-4de3-d351-fa111a4fc8f3"
      },
      "source": [
        "ads.groupby('date').agg({'clicks':'sum'}).plot(figsize=(12,6))\n",
        "plt.ylabel('Number of clicks')\n",
        "plt.title('Number of clicks by month');"
      ],
      "execution_count": null,
      "outputs": [
        {
          "output_type": "display_data",
          "data": {
            "image/png": "[encoded data removed]",
            "text/plain": [
              "<Figure size 864x432 with 1 Axes>"
            ]
          },
          "metadata": {
            "needs_background": "light"
          }
        }
      ]
    },
    {
      "cell_type": "code",
      "metadata": {
        "id": "h5E1TMxIkeQY",
        "colab": {
          "base_uri": "https://localhost:8080/"
        },
        "outputId": "1d8293ba-c121-44b6-dc00-69604bcf1916"
      },
      "source": [
        "print(ads.value_counts()/len(ads))"
      ],
      "execution_count": 88,
      "outputs": [
        {
          "output_type": "stream",
          "name": "stdout",
          "text": [
            "campaign    adgroup    ad     impressions  clicks  cost  conversions  revenue\n",
            "campaign 1  adgroup 4  ad 10  1            0       0.00  0            0.0        0.008095\n",
            "            adgroup 2  ad 1   1            0       0.00  0            0.0        0.005250\n",
            "                       ad 3   1            0       0.00  0            0.0        0.004375\n",
            "                       ad 7   1            0       0.00  0            0.0        0.003719\n",
            "            adgroup 4  ad 1   1            0       0.00  0            0.0        0.003063\n",
            "                                                                                   ...   \n",
            "            adgroup 3  ad 5   20           7       0.08  0            0.0        0.000219\n",
            "                              19           13      0.23  0            0.0        0.000219\n",
            "                                           11      0.12  0            0.0        0.000219\n",
            "                                           10      0.46  0            0.0        0.000219\n",
            "            adgroup 1  ad 1   2            0       0.00  0            0.0        0.000219\n",
            "Length: 4038, dtype: float64\n"
          ]
        }
      ]
    },
    {
      "cell_type": "code",
      "metadata": {
        "id": "eU2QzSRurE4m"
      },
      "source": [
        ""
      ],
      "execution_count": null,
      "outputs": []
    }
  ]
}