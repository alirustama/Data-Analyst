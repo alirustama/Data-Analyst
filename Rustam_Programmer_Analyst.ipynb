{
  "nbformat": 4,
  "nbformat_minor": 0,
  "metadata": {
    "colab": {
      "name": "Rustam_Programmer Analyst.ipynb",
      "provenance": [],
      "collapsed_sections": [],
      "authorship_tag": "ABX9TyPvPy8ktJYHVaYYxDXWomOe",
      "include_colab_link": true
    },
    "kernelspec": {
      "name": "python3",
      "display_name": "Python 3"
    },
    "language_info": {
      "name": "python"
    }
  },
  "cells": [
    {
      "cell_type": "markdown",
      "metadata": {
        "id": "view-in-github",
        "colab_type": "text"
      },
      "source": [
        "<a href=\"https://colab.research.google.com/github/alirustama/Data-Analyst/blob/master/Rustam_Programmer_Analyst.ipynb\" target=\"_parent\"><img src=\"https://colab.research.google.com/assets/colab-badge.svg\" alt=\"Open In Colab\"/></a>"
      ]
    },
    {
      "cell_type": "markdown",
      "metadata": {
        "id": "THaverOFrIMa"
      },
      "source": [
        "# **Problem Number 7**"
      ]
    },
    {
      "cell_type": "code",
      "metadata": {
        "id": "hnB14szhrRyX"
      },
      "source": [
        ""
      ],
      "execution_count": null,
      "outputs": []
    },
    {
      "cell_type": "code",
      "metadata": {
        "colab": {
          "base_uri": "https://localhost:8080/",
          "height": 204
        },
        "id": "AKSneSKkfp2q",
        "outputId": "76c98ba7-1d45-47e7-a7de-224a8206f272"
      },
      "source": [
        "import pandas as pd\n",
        "data= pd.read_csv(\"order_details.csv\")\n",
        "data.head()"
      ],
      "execution_count": 18,
      "outputs": [
        {
          "output_type": "execute_result",
          "data": {
            "text/html": [
              "<div>\n",
              "<style scoped>\n",
              "    .dataframe tbody tr th:only-of-type {\n",
              "        vertical-align: middle;\n",
              "    }\n",
              "\n",
              "    .dataframe tbody tr th {\n",
              "        vertical-align: top;\n",
              "    }\n",
              "\n",
              "    .dataframe thead th {\n",
              "        text-align: right;\n",
              "    }\n",
              "</style>\n",
              "<table border=\"1\" class=\"dataframe\">\n",
              "  <thead>\n",
              "    <tr style=\"text-align: right;\">\n",
              "      <th></th>\n",
              "      <th>transaction_id</th>\n",
              "      <th>transaction_time</th>\n",
              "      <th>vendor_id</th>\n",
              "      <th>city</th>\n",
              "      <th>quantity</th>\n",
              "    </tr>\n",
              "  </thead>\n",
              "  <tbody>\n",
              "    <tr>\n",
              "      <th>0</th>\n",
              "      <td>bf83b73e-186b-11ec-a4db-c59ead35adf8</td>\n",
              "      <td>01-03-2021 00:02:00</td>\n",
              "      <td>e9993a3d-186a-11ec-a4db-c59ead35adf8</td>\n",
              "      <td>Ahmedabad</td>\n",
              "      <td>6079</td>\n",
              "    </tr>\n",
              "    <tr>\n",
              "      <th>1</th>\n",
              "      <td>bf83b73f-186b-11ec-a4db-c59ead35adf8</td>\n",
              "      <td>01-03-2021 00:14:38</td>\n",
              "      <td>e9993a3d-186a-11ec-a4db-c59ead35adf8</td>\n",
              "      <td>Ahmedabad</td>\n",
              "      <td>3428</td>\n",
              "    </tr>\n",
              "    <tr>\n",
              "      <th>2</th>\n",
              "      <td>bf83b740-186b-11ec-a4db-c59ead35adf8</td>\n",
              "      <td>01-03-2021 00:15:01</td>\n",
              "      <td>e9993a3f-186a-11ec-a4db-c59ead35adf8</td>\n",
              "      <td>Chandigarh</td>\n",
              "      <td>5461</td>\n",
              "    </tr>\n",
              "    <tr>\n",
              "      <th>3</th>\n",
              "      <td>bf83b741-186b-11ec-a4db-c59ead35adf8</td>\n",
              "      <td>01-03-2021 00:15:34</td>\n",
              "      <td>e9993a3f-186a-11ec-a4db-c59ead35adf8</td>\n",
              "      <td>Chandigarh</td>\n",
              "      <td>3447</td>\n",
              "    </tr>\n",
              "    <tr>\n",
              "      <th>4</th>\n",
              "      <td>bf83b742-186b-11ec-a4db-c59ead35adf8</td>\n",
              "      <td>01-03-2021 00:20:18</td>\n",
              "      <td>e9993a3e-186a-11ec-a4db-c59ead35adf8</td>\n",
              "      <td>Guwahati</td>\n",
              "      <td>2321</td>\n",
              "    </tr>\n",
              "  </tbody>\n",
              "</table>\n",
              "</div>"
            ],
            "text/plain": [
              "                         transaction_id  ... quantity\n",
              "0  bf83b73e-186b-11ec-a4db-c59ead35adf8  ...     6079\n",
              "1  bf83b73f-186b-11ec-a4db-c59ead35adf8  ...     3428\n",
              "2  bf83b740-186b-11ec-a4db-c59ead35adf8  ...     5461\n",
              "3  bf83b741-186b-11ec-a4db-c59ead35adf8  ...     3447\n",
              "4  bf83b742-186b-11ec-a4db-c59ead35adf8  ...     2321\n",
              "\n",
              "[5 rows x 5 columns]"
            ]
          },
          "metadata": {},
          "execution_count": 18
        }
      ]
    },
    {
      "cell_type": "code",
      "metadata": {
        "id": "kGYQLqO3psYS"
      },
      "source": [
        ""
      ],
      "execution_count": null,
      "outputs": []
    },
    {
      "cell_type": "markdown",
      "metadata": {
        "id": "5-Koeq5mptUv"
      },
      "source": [
        "**A.The Number of Unique cities**"
      ]
    },
    {
      "cell_type": "code",
      "metadata": {
        "colab": {
          "base_uri": "https://localhost:8080/"
        },
        "id": "zU5tR8kuhqfh",
        "outputId": "29879e30-4201-4f6e-93cc-bddd1b987c73"
      },
      "source": [
        "s = pd.value_counts(data.city)\n",
        "s1 = pd.Series({'no_unique': len(s), 'unique values': s.index.tolist()})\n",
        "s.append(s1)\n"
      ],
      "execution_count": 31,
      "outputs": [
        {
          "output_type": "execute_result",
          "data": {
            "text/plain": [
              "Ahmedabad                                                     4676\n",
              "Guwahati                                                      4598\n",
              "Noida                                                         4592\n",
              "Chandigarh                                                    4580\n",
              "Bhopal                                                        4563\n",
              "Mumbai                                                        4559\n",
              "Chennai                                                       4549\n",
              "Delhi                                                         4544\n",
              "Kolkata                                                       4540\n",
              "Bangalore                                                     4470\n",
              "no_unique                                                       10\n",
              "unique values    [Ahmedabad, Guwahati, Noida, Chandigarh, Bhopa...\n",
              "dtype: object"
            ]
          },
          "metadata": {},
          "execution_count": 31
        }
      ]
    },
    {
      "cell_type": "code",
      "metadata": {
        "colab": {
          "base_uri": "https://localhost:8080/"
        },
        "id": "xR6tvFq3icsB",
        "outputId": "0c804d05-e8ad-4fe0-b89d-9f2ac7ddb71e"
      },
      "source": [
        "len(set(data))"
      ],
      "execution_count": 10,
      "outputs": [
        {
          "output_type": "execute_result",
          "data": {
            "text/plain": [
              "5"
            ]
          },
          "metadata": {},
          "execution_count": 10
        }
      ]
    },
    {
      "cell_type": "markdown",
      "metadata": {
        "id": "zGdebnk1qMa9"
      },
      "source": [
        "### **B.The Number of uniques vendor's Ids**"
      ]
    },
    {
      "cell_type": "markdown",
      "metadata": {
        "id": "5bftZsE5rGbZ"
      },
      "source": [
        ""
      ]
    },
    {
      "cell_type": "markdown",
      "metadata": {
        "id": "0LUZaUhHqXhr"
      },
      "source": [
        ""
      ]
    },
    {
      "cell_type": "code",
      "metadata": {
        "colab": {
          "base_uri": "https://localhost:8080/"
        },
        "id": "MVW0kkebjaoi",
        "outputId": "62d7081e-56f7-4d2c-a05b-7b8e17e28e64"
      },
      "source": [
        "s = pd.value_counts(data.vendor_id)\n",
        "\n",
        "df3.to_numeric(\n",
        "s1 = pd.Series({'no_unique': len(s), 'unique values': s.index.tolist()})\n",
        "s.append(s1)\n"
      ],
      "execution_count": 32,
      "outputs": [
        {
          "output_type": "execute_result",
          "data": {
            "text/plain": [
              "e9993a3f-186a-11ec-a4db-c59ead35adf8                                                10546\n",
              "e9993a3e-186a-11ec-a4db-c59ead35adf8                                                 6734\n",
              "e9993a3d-186a-11ec-a4db-c59ead35adf8                                                 5476\n",
              "e9993a3c-186a-11ec-a4db-c59ead35adf8                                                 4773\n",
              "e9993a3a-186a-11ec-a4db-c59ead35adf8                                                 4540\n",
              "e9993a3b-186a-11ec-a4db-c59ead35adf8                                                 4535\n",
              "e9993a39-186a-11ec-a4db-c59ead35adf8                                                 3666\n",
              "e9993a38-186a-11ec-a4db-c59ead35adf8                                                 2650\n",
              "e9993a37-186a-11ec-a4db-c59ead35adf8                                                 1842\n",
              "e9993a36-186a-11ec-a4db-c59ead35adf8                                                  909\n",
              "no_unique                                                                              10\n",
              "unique values                           [e9993a3f-186a-11ec-a4db-c59ead35adf8, e9993a3...\n",
              "dtype: object"
            ]
          },
          "metadata": {},
          "execution_count": 32
        }
      ]
    },
    {
      "cell_type": "markdown",
      "metadata": {
        "id": "6ViRkh-HppXb"
      },
      "source": [
        "### **D. Calculate the Monthly avearage quantity of each city**"
      ]
    },
    {
      "cell_type": "code",
      "metadata": {
        "colab": {
          "base_uri": "https://localhost:8080/"
        },
        "id": "B8b_Eey0j0hL",
        "outputId": "2b1c0868-1eac-435c-ec6f-4fdcd2d8c625"
      },
      "source": [
        "salary =  data.groupby(['city','quantity'],as_index=False).quantity.mean()\n",
        "print(salary)"
      ],
      "execution_count": 34,
      "outputs": [
        {
          "output_type": "stream",
          "name": "stdout",
          "text": [
            "            city  quantity\n",
            "0      Ahmedabad      2001\n",
            "1      Ahmedabad      2003\n",
            "2      Ahmedabad      2004\n",
            "3      Ahmedabad      2006\n",
            "4      Ahmedabad      2007\n",
            "...          ...       ...\n",
            "34690      Noida      9985\n",
            "34691      Noida      9988\n",
            "34692      Noida      9989\n",
            "34693      Noida      9990\n",
            "34694      Noida      9998\n",
            "\n",
            "[34695 rows x 2 columns]\n"
          ]
        }
      ]
    },
    {
      "cell_type": "markdown",
      "metadata": {
        "id": "jShD7UGasqLj"
      },
      "source": [
        "### **Question No.1**\n",
        "*Given a set of distinct integers, print the size of a maximal subset of where the sum of any number\n",
        "in is not evenly divisible by k = 4 *"
      ]
    },
    {
      "cell_type": "code",
      "metadata": {
        "colab": {
          "base_uri": "https://localhost:8080/"
        },
        "id": "zkzsLzFvmAVD",
        "outputId": "a8061ba2-ba1e-4e3b-bb55-2fa4439b1c3c"
      },
      "source": [
        "\n",
        "def subsetPairNotDivisibleByK(arr, N, K):\n",
        "\n",
        "\tf = [0 for i in range(K)]\n",
        "\n",
        "\tfor i in range(N):\n",
        "\t\tf[arr[i] % K] += 1\n",
        "\n",
        "\tif (K % 2 == 0):\n",
        "\t\tf[K//2] = min(f[K//2], 1)\n",
        "\n",
        "\n",
        "\tres = min(f[0], 1)\n",
        "\n",
        "\t\n",
        "\tfor i in range(1,(K // 2) + 1):\n",
        "\t\tres += max(f[i], f[K - i])\n",
        "\n",
        "\treturn res\n",
        "\t\n",
        "\n",
        "arr = [1, 7, 2, 4]\n",
        "N = len(arr)\n",
        "K = 4\n",
        "print(subsetPairNotDivisibleByK(arr, N, K))\n",
        "\n"
      ],
      "execution_count": 40,
      "outputs": [
        {
          "output_type": "stream",
          "name": "stdout",
          "text": [
            "3\n"
          ]
        }
      ]
    },
    {
      "cell_type": "markdown",
      "metadata": {
        "id": "ohy4wQvxtGzt"
      },
      "source": [
        "**Question no.3**\n",
        "*Given a string reverse position of all alphanumeric character but maintain position of all the\n",
        "special symbols and display the result. Example: input_string = ‘ab$24%736(849ldj’ the required\n",
        "output string should be = ‘jd$l9%486(3742ba’*"
      ]
    },
    {
      "cell_type": "code",
      "metadata": {
        "colab": {
          "base_uri": "https://localhost:8080/"
        },
        "id": "lcaVqFX8r042",
        "outputId": "06a7678d-12ba-4fe1-9c27-84c95eb41f9e"
      },
      "source": [
        "def reverseSting(text):\n",
        "\tindex = -1\n",
        "\t\n",
        "\tfor i in range(len(text)-1, int(len(text)/2), -1):\n",
        "\t\t\n",
        "\t\tif text[i].isalpha():\n",
        "\t\t\ttemp = text[i]\n",
        "\t\t\twhile True:\n",
        "\t\t\t\tindex += 1\n",
        "\t\t\t\tif text[index].isalpha():\n",
        "\t\t\t\t\ttext[i] = text[index]\n",
        "\t\t\t\t\ttext[index] = temp\n",
        "\t\t\t\t\tbreak\n",
        "\treturn text\n",
        "string = \"ab$24%736(849ldj\"\n",
        "print (\"Input_strings: \", string)\n",
        "string = reverseSting(list(string))\n",
        "print (\"Output_strings: \", \"\".join(string))"
      ],
      "execution_count": 43,
      "outputs": [
        {
          "output_type": "stream",
          "name": "stdout",
          "text": [
            "Input_strings:  ab$24%736(849ldj\n",
            "Output_strings:  jd$24%736(849lba\n"
          ]
        }
      ]
    },
    {
      "cell_type": "markdown",
      "metadata": {
        "id": "ZBquvgMjwvSV"
      },
      "source": [
        "# **Qustion No. 2**\n",
        "*Given a set of number, a = 999999999999 ,b= 123456789 .Represent them as an individual link list,\n",
        "multiple the two link list and represent the result in another link list called result.*"
      ]
    },
    {
      "cell_type": "code",
      "metadata": {
        "id": "Q2u06uhltzj2"
      },
      "source": [
        "\n",
        "\n",
        "class Node:\n",
        "\t\n",
        "\tdef __init__(self, data):\n",
        "\n",
        "\t\tself.data = data\n",
        "\t\tself.next = None\n",
        "class LinkedList:\n",
        "\n",
        "\tdef __init__(self):\n",
        "\t\tself.head = None\n",
        "\tdef push(self, new_data):\n",
        "\t\n",
        "\t\tnew_node = Node(new_data)\n",
        "\n",
        "\t\tnew_node.next = self.head\n",
        "\n",
        "\t\tself.head = new_node\n",
        "\n",
        "\tdef printList(self):\n",
        "\n",
        "\t\tptr = self.head\n",
        "\n",
        "\n",
        "\t\twhile(ptr != None):\n",
        "\t\t\tprint(ptr.data, '->', end = '')\n",
        "\n",
        "\t\t\tptr = ptr.next\n",
        "\t\t\t\n",
        "\t\tprint()\n",
        "\n",
        "def reverse(head_ref):\n",
        "\n",
        "\tprev = None\n",
        "\tcurrent = head_ref.head\n",
        "\n",
        "\tL = 0\n",
        "\n",
        "\n",
        "\twhile(current != None):\n",
        "\t\tL += 1\n",
        "\t\tNext = current.next\n",
        "\t\tcurrent.next = prev\n",
        "\t\tprev = current\n",
        "\t\tcurrent = Next\n",
        "\n",
        "\thead_ref.head = prev\n",
        "\n",
        "\treturn L\n",
        "\n",
        "\n",
        "def make_empty_list(size):\n",
        "\t\n",
        "\thead = LinkedList()\n",
        "\t\n",
        "\twhile(size):\n",
        "\t\thead.push(0)\n",
        "\t\tsize -= 1\n",
        "\treturn head\n",
        "def multiplyTwoLists(first, second):\n",
        "\tm = reverse(first)\n",
        "\tn = reverse(second)\n",
        "\n",
        "\tresult = make_empty_list(m + n + 1)\n",
        "\n",
        "\tsecond_ptr = second.head\n",
        "\tresult_ptr1 = result.head\n",
        "\n",
        "\twhile(second_ptr != None):\n",
        "\t\tc = 0\n",
        "\n",
        "\t\tresult_ptr2 = result_ptr1\n",
        "\t\tfirst_ptr = first.head\n",
        "\n",
        "\t\twhile(first_ptr != None):\n",
        "\n",
        "\t\t\tmul = ((first_ptr.data) *\n",
        "\t\t\t\t(second_ptr.data) + c)\n",
        "\n",
        "\n",
        "\t\t\tresult_ptr2.data += mul % 100\n",
        "\n",
        "\t\t\tc = ((mul // 100) +\n",
        "\t\t\t\t\t(result_ptr2.data // 100))\n",
        "\t\t\tresult_ptr2.data = result_ptr2.data % 100\n",
        "\n",
        "\t\t\tfirst_ptr = first_ptr.next\n",
        "\t\t\tresult_ptr2 = result_ptr2.next\n",
        "\n",
        "\t\tif(carry > 0):\n",
        "\t\t\tresult_ptr2.data += c\n",
        "\n",
        "\t\tresult_ptr1 = result_ptr1.next\n",
        "\t\tsecond_ptr = second_ptr.next\n",
        "\n",
        "\treverse(result)\n",
        "\treverse(first)\n",
        "\treverse(second)\n",
        "\n",
        "\tstart = result.head\n",
        "\twhile(start.data == 0):\n",
        "\t\tresult.head = start.next\n",
        "\t\tstart = start.next\n",
        "\treturn result\n",
        "\n",
        "\n",
        "\n",
        "if __name__=='__main__':\n",
        "  first = LinkedList()\n",
        "\tsecond = LinkedList()\n",
        "  first.push(9)\n",
        "\tfirst.push(9)\n",
        "\tfirst.push(9)\n",
        "\tfirst.push(9)\n",
        "\tfirst.push(9)\n",
        "\tfirst.push(9)\n",
        "  first.push(9)\n",
        "  first.push(9)\n",
        "  first.push(9)\n",
        "  first.push(9)\n",
        "  first.push(9)\n",
        "  first.push(9)\n",
        " \n",
        "\n",
        "\tprint(\" a: \", end = '')\n",
        "\tfirst.printList()\n",
        "\tsecond.push(1)\n",
        "\tsecond.push(2)\n",
        "\tsecond.push(3)\n",
        "\tsecond.push(4)\n",
        "\tsecond.push(5)\n",
        "  second.push(6)\n",
        "  second.push(7)\n",
        "  second.push(8)\n",
        "  second.push(9)\n",
        "\n",
        "\tprint(\"b:\", end = '')\n",
        "\tsecond.printList()\n",
        "\n",
        "\tresult = multiplyTwoLists(first, second)\n",
        "\tprint(\"Result: \", end = '')\n",
        "\tresult.printList()\n",
        "\t\n"
      ],
      "execution_count": null,
      "outputs": []
    },
    {
      "cell_type": "code",
      "metadata": {
        "id": "CklLuT7rzD8v"
      },
      "source": [
        "**Question No.4**\n"
      ],
      "execution_count": null,
      "outputs": []
    },
    {
      "cell_type": "code",
      "metadata": {
        "colab": {
          "base_uri": "https://localhost:8080/"
        },
        "id": "UxrGztsM0ywT",
        "outputId": "24fe1133-7d13-42af-9fc0-507a1f46cd54"
      },
      "source": [
        "\n",
        "def maxFreqElements(arr, N, K) :\n",
        "\n",
        "\n",
        "\tmp = {}\n",
        "\n",
        "\tfor i in range(N) :\n",
        "\n",
        "\t\tif arr[i] in mp :\n",
        "\t\t\tmp[arr[i]] += 1\n",
        "\t\telse :\n",
        "\t\t\tmp[arr[i]] = 1\n",
        "\n",
        "\twhile (K > 0) :\n",
        "\n",
        "\t\t\n",
        "\t\tMax = 0\n",
        "\n",
        "\t\tfor i in mp :\n",
        "\n",
        "\t\t\tif (mp[i] > Max) :\n",
        "\t\t\t\tMax = mp[i]\n",
        "\n",
        "\n",
        "\t\t\t\telement = i\n",
        "\n",
        "\n",
        "\t\tprint(element, end = \" \")\n",
        "\n",
        "\t\tif element in mp :\n",
        "\t\t\tmp[element] -= 1\n",
        "\t\telse :\n",
        "\t\t\tmp[element] = -1\n",
        "\n",
        "\t\tK -= 1\n",
        "\n",
        "\n",
        "arr = [0,0,2,2,3,3,8,2,7]\n",
        "\n",
        "\n",
        "N = len(arr)\n",
        "\n",
        "K = 10\n",
        "\n",
        "maxFreqElements(arr, N, K)\n",
        "\n",
        "\n"
      ],
      "execution_count": 60,
      "outputs": [
        {
          "output_type": "stream",
          "name": "stdout",
          "text": [
            "2 0 2 3 0 2 3 8 7 7 "
          ]
        }
      ]
    },
    {
      "cell_type": "code",
      "metadata": {
        "id": "Yice7kwL0725"
      },
      "source": [
        ""
      ],
      "execution_count": null,
      "outputs": []
    }
  ]
}