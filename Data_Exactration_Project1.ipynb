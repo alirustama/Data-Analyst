{
  "nbformat": 4,
  "nbformat_minor": 0,
  "metadata": {
    "colab": {
      "name": "Data_Exactration-Project1.ipynb",
      "provenance": [],
      "authorship_tag": "ABX9TyPljkBzPfv+L60np6HwCEBY",
      "include_colab_link": true
    },
    "kernelspec": {
      "name": "python3",
      "display_name": "Python 3"
    },
    "language_info": {
      "name": "python"
    },
    "widgets": {
      "application/vnd.jupyter.widget-state+json": {
        "9a641028b0e8405595a18fa39f4c776a": {
          "model_module": "@jupyter-widgets/controls",
          "model_name": "HBoxModel",
          "model_module_version": "1.5.0",
          "state": {
            "_view_name": "HBoxView",
            "_dom_classes": [],
            "_model_name": "HBoxModel",
            "_view_module": "@jupyter-widgets/controls",
            "_model_module_version": "1.5.0",
            "_view_count": null,
            "_view_module_version": "1.5.0",
            "box_style": "",
            "layout": "IPY_MODEL_2b44bbb9843c4420b0e92a99e2bf0435",
            "_model_module": "@jupyter-widgets/controls",
            "children": [
              "IPY_MODEL_20ab739e84244b74bdd07bd3ec0d6fd1",
              "IPY_MODEL_1626eed1a074408490ab848b165df6dc",
              "IPY_MODEL_a48b5d9aaa9d467d8dcdf240f45272b2"
            ]
          }
        },
        "2b44bbb9843c4420b0e92a99e2bf0435": {
          "model_module": "@jupyter-widgets/base",
          "model_name": "LayoutModel",
          "model_module_version": "1.2.0",
          "state": {
            "_view_name": "LayoutView",
            "grid_template_rows": null,
            "right": null,
            "justify_content": null,
            "_view_module": "@jupyter-widgets/base",
            "overflow": null,
            "_model_module_version": "1.2.0",
            "_view_count": null,
            "flex_flow": null,
            "width": null,
            "min_width": null,
            "border": null,
            "align_items": null,
            "bottom": null,
            "_model_module": "@jupyter-widgets/base",
            "top": null,
            "grid_column": null,
            "overflow_y": null,
            "overflow_x": null,
            "grid_auto_flow": null,
            "grid_area": null,
            "grid_template_columns": null,
            "flex": null,
            "_model_name": "LayoutModel",
            "justify_items": null,
            "grid_row": null,
            "max_height": null,
            "align_content": null,
            "visibility": null,
            "align_self": null,
            "height": null,
            "min_height": null,
            "padding": null,
            "grid_auto_rows": null,
            "grid_gap": null,
            "max_width": null,
            "order": null,
            "_view_module_version": "1.2.0",
            "grid_template_areas": null,
            "object_position": null,
            "object_fit": null,
            "grid_auto_columns": null,
            "margin": null,
            "display": null,
            "left": null
          }
        },
        "20ab739e84244b74bdd07bd3ec0d6fd1": {
          "model_module": "@jupyter-widgets/controls",
          "model_name": "HTMLModel",
          "model_module_version": "1.5.0",
          "state": {
            "_view_name": "HTMLView",
            "style": "IPY_MODEL_66d16d5074624d45be838b10a6f5f0f2",
            "_dom_classes": [],
            "description": "",
            "_model_name": "HTMLModel",
            "placeholder": "​",
            "_view_module": "@jupyter-widgets/controls",
            "_model_module_version": "1.5.0",
            "value": "Downloading: 100%",
            "_view_count": null,
            "_view_module_version": "1.5.0",
            "description_tooltip": null,
            "_model_module": "@jupyter-widgets/controls",
            "layout": "IPY_MODEL_644ae75d945144e8aa9a774c8eb28679"
          }
        },
        "1626eed1a074408490ab848b165df6dc": {
          "model_module": "@jupyter-widgets/controls",
          "model_name": "FloatProgressModel",
          "model_module_version": "1.5.0",
          "state": {
            "_view_name": "ProgressView",
            "style": "IPY_MODEL_5d1be96d25a041c8b8c4a07826103be6",
            "_dom_classes": [],
            "description": "",
            "_model_name": "FloatProgressModel",
            "bar_style": "success",
            "max": 1175,
            "_view_module": "@jupyter-widgets/controls",
            "_model_module_version": "1.5.0",
            "value": 1175,
            "_view_count": null,
            "_view_module_version": "1.5.0",
            "orientation": "horizontal",
            "min": 0,
            "description_tooltip": null,
            "_model_module": "@jupyter-widgets/controls",
            "layout": "IPY_MODEL_ffc506c6d25942df9c6bfc4bc195d231"
          }
        },
        "a48b5d9aaa9d467d8dcdf240f45272b2": {
          "model_module": "@jupyter-widgets/controls",
          "model_name": "HTMLModel",
          "model_module_version": "1.5.0",
          "state": {
            "_view_name": "HTMLView",
            "style": "IPY_MODEL_2eaa6cba002244a98c00073441aa0984",
            "_dom_classes": [],
            "description": "",
            "_model_name": "HTMLModel",
            "placeholder": "​",
            "_view_module": "@jupyter-widgets/controls",
            "_model_module_version": "1.5.0",
            "value": " 1.18k/1.18k [00:00&lt;00:00, 19.8kB/s]",
            "_view_count": null,
            "_view_module_version": "1.5.0",
            "description_tooltip": null,
            "_model_module": "@jupyter-widgets/controls",
            "layout": "IPY_MODEL_4ead6ac024484561811604c4479038a0"
          }
        },
        "66d16d5074624d45be838b10a6f5f0f2": {
          "model_module": "@jupyter-widgets/controls",
          "model_name": "DescriptionStyleModel",
          "model_module_version": "1.5.0",
          "state": {
            "_view_name": "StyleView",
            "_model_name": "DescriptionStyleModel",
            "description_width": "",
            "_view_module": "@jupyter-widgets/base",
            "_model_module_version": "1.5.0",
            "_view_count": null,
            "_view_module_version": "1.2.0",
            "_model_module": "@jupyter-widgets/controls"
          }
        },
        "644ae75d945144e8aa9a774c8eb28679": {
          "model_module": "@jupyter-widgets/base",
          "model_name": "LayoutModel",
          "model_module_version": "1.2.0",
          "state": {
            "_view_name": "LayoutView",
            "grid_template_rows": null,
            "right": null,
            "justify_content": null,
            "_view_module": "@jupyter-widgets/base",
            "overflow": null,
            "_model_module_version": "1.2.0",
            "_view_count": null,
            "flex_flow": null,
            "width": null,
            "min_width": null,
            "border": null,
            "align_items": null,
            "bottom": null,
            "_model_module": "@jupyter-widgets/base",
            "top": null,
            "grid_column": null,
            "overflow_y": null,
            "overflow_x": null,
            "grid_auto_flow": null,
            "grid_area": null,
            "grid_template_columns": null,
            "flex": null,
            "_model_name": "LayoutModel",
            "justify_items": null,
            "grid_row": null,
            "max_height": null,
            "align_content": null,
            "visibility": null,
            "align_self": null,
            "height": null,
            "min_height": null,
            "padding": null,
            "grid_auto_rows": null,
            "grid_gap": null,
            "max_width": null,
            "order": null,
            "_view_module_version": "1.2.0",
            "grid_template_areas": null,
            "object_position": null,
            "object_fit": null,
            "grid_auto_columns": null,
            "margin": null,
            "display": null,
            "left": null
          }
        },
        "5d1be96d25a041c8b8c4a07826103be6": {
          "model_module": "@jupyter-widgets/controls",
          "model_name": "ProgressStyleModel",
          "model_module_version": "1.5.0",
          "state": {
            "_view_name": "StyleView",
            "_model_name": "ProgressStyleModel",
            "description_width": "",
            "_view_module": "@jupyter-widgets/base",
            "_model_module_version": "1.5.0",
            "_view_count": null,
            "_view_module_version": "1.2.0",
            "bar_color": null,
            "_model_module": "@jupyter-widgets/controls"
          }
        },
        "ffc506c6d25942df9c6bfc4bc195d231": {
          "model_module": "@jupyter-widgets/base",
          "model_name": "LayoutModel",
          "model_module_version": "1.2.0",
          "state": {
            "_view_name": "LayoutView",
            "grid_template_rows": null,
            "right": null,
            "justify_content": null,
            "_view_module": "@jupyter-widgets/base",
            "overflow": null,
            "_model_module_version": "1.2.0",
            "_view_count": null,
            "flex_flow": null,
            "width": null,
            "min_width": null,
            "border": null,
            "align_items": null,
            "bottom": null,
            "_model_module": "@jupyter-widgets/base",
            "top": null,
            "grid_column": null,
            "overflow_y": null,
            "overflow_x": null,
            "grid_auto_flow": null,
            "grid_area": null,
            "grid_template_columns": null,
            "flex": null,
            "_model_name": "LayoutModel",
            "justify_items": null,
            "grid_row": null,
            "max_height": null,
            "align_content": null,
            "visibility": null,
            "align_self": null,
            "height": null,
            "min_height": null,
            "padding": null,
            "grid_auto_rows": null,
            "grid_gap": null,
            "max_width": null,
            "order": null,
            "_view_module_version": "1.2.0",
            "grid_template_areas": null,
            "object_position": null,
            "object_fit": null,
            "grid_auto_columns": null,
            "margin": null,
            "display": null,
            "left": null
          }
        },
        "2eaa6cba002244a98c00073441aa0984": {
          "model_module": "@jupyter-widgets/controls",
          "model_name": "DescriptionStyleModel",
          "model_module_version": "1.5.0",
          "state": {
            "_view_name": "StyleView",
            "_model_name": "DescriptionStyleModel",
            "description_width": "",
            "_view_module": "@jupyter-widgets/base",
            "_model_module_version": "1.5.0",
            "_view_count": null,
            "_view_module_version": "1.2.0",
            "_model_module": "@jupyter-widgets/controls"
          }
        },
        "4ead6ac024484561811604c4479038a0": {
          "model_module": "@jupyter-widgets/base",
          "model_name": "LayoutModel",
          "model_module_version": "1.2.0",
          "state": {
            "_view_name": "LayoutView",
            "grid_template_rows": null,
            "right": null,
            "justify_content": null,
            "_view_module": "@jupyter-widgets/base",
            "overflow": null,
            "_model_module_version": "1.2.0",
            "_view_count": null,
            "flex_flow": null,
            "width": null,
            "min_width": null,
            "border": null,
            "align_items": null,
            "bottom": null,
            "_model_module": "@jupyter-widgets/base",
            "top": null,
            "grid_column": null,
            "overflow_y": null,
            "overflow_x": null,
            "grid_auto_flow": null,
            "grid_area": null,
            "grid_template_columns": null,
            "flex": null,
            "_model_name": "LayoutModel",
            "justify_items": null,
            "grid_row": null,
            "max_height": null,
            "align_content": null,
            "visibility": null,
            "align_self": null,
            "height": null,
            "min_height": null,
            "padding": null,
            "grid_auto_rows": null,
            "grid_gap": null,
            "max_width": null,
            "order": null,
            "_view_module_version": "1.2.0",
            "grid_template_areas": null,
            "object_position": null,
            "object_fit": null,
            "grid_auto_columns": null,
            "margin": null,
            "display": null,
            "left": null
          }
        }
      }
    }
  },
  "cells": [
    {
      "cell_type": "markdown",
      "metadata": {
        "id": "view-in-github",
        "colab_type": "text"
      },
      "source": [
        "<a href=\"https://colab.research.google.com/github/alirustama/Data-Analyst/blob/master/Data_Exactration_Project1.ipynb\" target=\"_parent\"><img src=\"https://colab.research.google.com/assets/colab-badge.svg\" alt=\"Open In Colab\"/></a>"
      ]
    },
    {
      "cell_type": "markdown",
      "metadata": {
        "id": "GKqWuxQu4dIp"
      },
      "source": [
        "# **Fetching the Query from BBC news website**"
      ]
    },
    {
      "cell_type": "code",
      "metadata": {
        "colab": {
          "base_uri": "https://localhost:8080/"
        },
        "id": "TvTQxi5a2uNZ",
        "outputId": "69aaef05-efbc-4d1d-aeaa-f39d68a4248f"
      },
      "source": [
        "# importing requests package\n",
        "import requests\t\n",
        "\n",
        "def NewsFromBBC():\n",
        "\t\n",
        "\t# BBC news api\n",
        "\t# following query parameters are used\n",
        "\t# source, sortBy and apiKey\n",
        "\tquery_params = {\n",
        "\t\"source\": \"bbc-news\",\n",
        "\t\"sortBy\": \"top\",\n",
        "\t\"apiKey\": \"4dbc17e007ab436fb66416009dfb59a8\"\n",
        "\t}\n",
        "\tmain_url = \" https://newsapi.org/v1/articles\"\n",
        "\n",
        "\t# fetching data in json format\n",
        "\tres = requests.get(main_url, params=query_params)\n",
        "\topen_bbc_page = res.json()\n",
        "\n",
        "\t# getting all articles in a string article\n",
        "\tarticle = open_bbc_page[\"articles\"]\n",
        "\n",
        "\t# empty list which will\n",
        "\t# contain all trending news\n",
        "\tresults = []\n",
        "\t\n",
        "\tfor ar in article:\n",
        "\t\tresults.append(ar[\"title\"])\n",
        "\t\t\n",
        "\tfor i in range(len(results)):\n",
        "\t\t\n",
        "\t\t# printing all trending news\n",
        "\t\tprint(i + 1, results[i])\n",
        "\t\t\t\n",
        "\n",
        "# Driver Code\n",
        "if __name__ == '__main__':\n",
        "\t\n",
        "\t# function call\n",
        "\tNewsFromBBC()\n"
      ],
      "execution_count": 11,
      "outputs": [
        {
          "output_type": "stream",
          "name": "stdout",
          "text": [
            "1 Historic go-ahead for malaria vaccine to protect African children\n",
            "2 Abu Zubaydah: Top US court to hear test case on state secrecy\n",
            "3 Prince Andrew to receive Epstein-Giuffre agreement\n",
            "4 Texas abortion: Judge temporarily blocks enforcement of law\n",
            "5 Search for cause in California beach oil spill\n",
            "6 Debt ceiling: Is the US about to overshoot its debt limit?\n",
            "7 Afghanistan war: Services mark 20th anniversary of UK operations\n",
            "8 Princess Haya: Dubai ruler had ex-wife's phone hacked - UK court\n",
            "9 Opioid crisis: US pharmacies face moment of truth as trial begins\n",
            "10 Joyce Echaquan: Racism played role in death, coroner finds\n"
          ]
        }
      ]
    },
    {
      "cell_type": "markdown",
      "metadata": {
        "id": "t7QksnIQ4al7"
      },
      "source": [
        "**Using KeyBERT transfor model**"
      ]
    },
    {
      "cell_type": "code",
      "metadata": {
        "colab": {
          "base_uri": "https://localhost:8080/"
        },
        "id": "PvF12THf04KH",
        "outputId": "447191d3-3dbb-443f-c153-917c85fbfc54"
      },
      "source": [
        "!pip install KeyBERT"
      ],
      "execution_count": 7,
      "outputs": [
        {
          "output_type": "stream",
          "name": "stdout",
          "text": [
            "Collecting KeyBERT\n",
            "  Downloading keybert-0.5.0.tar.gz (19 kB)\n",
            "Collecting sentence-transformers>=0.3.8\n",
            "  Downloading sentence-transformers-2.1.0.tar.gz (78 kB)\n",
            "\u001b[K     |████████████████████████████████| 78 kB 4.8 MB/s \n",
            "\u001b[?25hRequirement already satisfied: scikit-learn>=0.22.2 in /usr/local/lib/python3.7/dist-packages (from KeyBERT) (0.22.2.post1)\n",
            "Requirement already satisfied: numpy>=1.18.5 in /usr/local/lib/python3.7/dist-packages (from KeyBERT) (1.19.5)\n",
            "Collecting rich>=10.4.0\n",
            "  Downloading rich-10.12.0-py3-none-any.whl (212 kB)\n",
            "\u001b[K     |████████████████████████████████| 212 kB 31.6 MB/s \n",
            "\u001b[?25hRequirement already satisfied: typing-extensions<4.0.0,>=3.7.4 in /usr/local/lib/python3.7/dist-packages (from rich>=10.4.0->KeyBERT) (3.7.4.3)\n",
            "Collecting commonmark<0.10.0,>=0.9.0\n",
            "  Downloading commonmark-0.9.1-py2.py3-none-any.whl (51 kB)\n",
            "\u001b[K     |████████████████████████████████| 51 kB 8.7 MB/s \n",
            "\u001b[?25hRequirement already satisfied: pygments<3.0.0,>=2.6.0 in /usr/local/lib/python3.7/dist-packages (from rich>=10.4.0->KeyBERT) (2.6.1)\n",
            "Collecting colorama<0.5.0,>=0.4.0\n",
            "  Downloading colorama-0.4.4-py2.py3-none-any.whl (16 kB)\n",
            "Requirement already satisfied: joblib>=0.11 in /usr/local/lib/python3.7/dist-packages (from scikit-learn>=0.22.2->KeyBERT) (1.0.1)\n",
            "Requirement already satisfied: scipy>=0.17.0 in /usr/local/lib/python3.7/dist-packages (from scikit-learn>=0.22.2->KeyBERT) (1.4.1)\n",
            "Collecting transformers<5.0.0,>=4.6.0\n",
            "  Downloading transformers-4.11.3-py3-none-any.whl (2.9 MB)\n",
            "\u001b[K     |████████████████████████████████| 2.9 MB 52.1 MB/s \n",
            "\u001b[?25hCollecting tokenizers>=0.10.3\n",
            "  Downloading tokenizers-0.10.3-cp37-cp37m-manylinux_2_5_x86_64.manylinux1_x86_64.manylinux_2_12_x86_64.manylinux2010_x86_64.whl (3.3 MB)\n",
            "\u001b[K     |████████████████████████████████| 3.3 MB 51.4 MB/s \n",
            "\u001b[?25hRequirement already satisfied: tqdm in /usr/local/lib/python3.7/dist-packages (from sentence-transformers>=0.3.8->KeyBERT) (4.62.3)\n",
            "Requirement already satisfied: torch>=1.6.0 in /usr/local/lib/python3.7/dist-packages (from sentence-transformers>=0.3.8->KeyBERT) (1.9.0+cu102)\n",
            "Requirement already satisfied: torchvision in /usr/local/lib/python3.7/dist-packages (from sentence-transformers>=0.3.8->KeyBERT) (0.10.0+cu102)\n",
            "Requirement already satisfied: nltk in /usr/local/lib/python3.7/dist-packages (from sentence-transformers>=0.3.8->KeyBERT) (3.2.5)\n",
            "Collecting sentencepiece\n",
            "  Downloading sentencepiece-0.1.96-cp37-cp37m-manylinux_2_17_x86_64.manylinux2014_x86_64.whl (1.2 MB)\n",
            "\u001b[K     |████████████████████████████████| 1.2 MB 26.8 MB/s \n",
            "\u001b[?25hCollecting huggingface-hub\n",
            "  Downloading huggingface_hub-0.0.19-py3-none-any.whl (56 kB)\n",
            "\u001b[K     |████████████████████████████████| 56 kB 5.9 MB/s \n",
            "\u001b[?25hRequirement already satisfied: importlib-metadata in /usr/local/lib/python3.7/dist-packages (from transformers<5.0.0,>=4.6.0->sentence-transformers>=0.3.8->KeyBERT) (4.8.1)\n",
            "Collecting sacremoses\n",
            "  Downloading sacremoses-0.0.46-py3-none-any.whl (895 kB)\n",
            "\u001b[K     |████████████████████████████████| 895 kB 53.5 MB/s \n",
            "\u001b[?25hRequirement already satisfied: packaging>=20.0 in /usr/local/lib/python3.7/dist-packages (from transformers<5.0.0,>=4.6.0->sentence-transformers>=0.3.8->KeyBERT) (21.0)\n",
            "Collecting pyyaml>=5.1\n",
            "  Downloading PyYAML-5.4.1-cp37-cp37m-manylinux1_x86_64.whl (636 kB)\n",
            "\u001b[K     |████████████████████████████████| 636 kB 57.5 MB/s \n",
            "\u001b[?25hRequirement already satisfied: requests in /usr/local/lib/python3.7/dist-packages (from transformers<5.0.0,>=4.6.0->sentence-transformers>=0.3.8->KeyBERT) (2.23.0)\n",
            "Requirement already satisfied: filelock in /usr/local/lib/python3.7/dist-packages (from transformers<5.0.0,>=4.6.0->sentence-transformers>=0.3.8->KeyBERT) (3.2.0)\n",
            "Requirement already satisfied: regex!=2019.12.17 in /usr/local/lib/python3.7/dist-packages (from transformers<5.0.0,>=4.6.0->sentence-transformers>=0.3.8->KeyBERT) (2019.12.20)\n",
            "Requirement already satisfied: pyparsing>=2.0.2 in /usr/local/lib/python3.7/dist-packages (from packaging>=20.0->transformers<5.0.0,>=4.6.0->sentence-transformers>=0.3.8->KeyBERT) (2.4.7)\n",
            "Requirement already satisfied: zipp>=0.5 in /usr/local/lib/python3.7/dist-packages (from importlib-metadata->transformers<5.0.0,>=4.6.0->sentence-transformers>=0.3.8->KeyBERT) (3.6.0)\n",
            "Requirement already satisfied: six in /usr/local/lib/python3.7/dist-packages (from nltk->sentence-transformers>=0.3.8->KeyBERT) (1.15.0)\n",
            "Requirement already satisfied: idna<3,>=2.5 in /usr/local/lib/python3.7/dist-packages (from requests->transformers<5.0.0,>=4.6.0->sentence-transformers>=0.3.8->KeyBERT) (2.10)\n",
            "Requirement already satisfied: certifi>=2017.4.17 in /usr/local/lib/python3.7/dist-packages (from requests->transformers<5.0.0,>=4.6.0->sentence-transformers>=0.3.8->KeyBERT) (2021.5.30)\n",
            "Requirement already satisfied: urllib3!=1.25.0,!=1.25.1,<1.26,>=1.21.1 in /usr/local/lib/python3.7/dist-packages (from requests->transformers<5.0.0,>=4.6.0->sentence-transformers>=0.3.8->KeyBERT) (1.24.3)\n",
            "Requirement already satisfied: chardet<4,>=3.0.2 in /usr/local/lib/python3.7/dist-packages (from requests->transformers<5.0.0,>=4.6.0->sentence-transformers>=0.3.8->KeyBERT) (3.0.4)\n",
            "Requirement already satisfied: click in /usr/local/lib/python3.7/dist-packages (from sacremoses->transformers<5.0.0,>=4.6.0->sentence-transformers>=0.3.8->KeyBERT) (7.1.2)\n",
            "Requirement already satisfied: pillow>=5.3.0 in /usr/local/lib/python3.7/dist-packages (from torchvision->sentence-transformers>=0.3.8->KeyBERT) (7.1.2)\n",
            "Building wheels for collected packages: KeyBERT, sentence-transformers\n",
            "  Building wheel for KeyBERT (setup.py) ... \u001b[?25l\u001b[?25hdone\n",
            "  Created wheel for KeyBERT: filename=keybert-0.5.0-py3-none-any.whl size=20491 sha256=7f1a665b8d1cffe94ffc2dd80c93f5f8a15a286cb63ff4194fe40651ecc76677\n",
            "  Stored in directory: /root/.cache/pip/wheels/99/1f/3f/590d2997adbb2d0e1f82e8ee05d42d6910e92c3ed283015ff8\n",
            "  Building wheel for sentence-transformers (setup.py) ... \u001b[?25l\u001b[?25hdone\n",
            "  Created wheel for sentence-transformers: filename=sentence_transformers-2.1.0-py3-none-any.whl size=121000 sha256=430ebf55e311d7253efba4bf06944d143e791b1d7d13d1f5aa6069206b908a6f\n",
            "  Stored in directory: /root/.cache/pip/wheels/90/f0/bb/ed1add84da70092ea526466eadc2bfb197c4bcb8d4fa5f7bad\n",
            "Successfully built KeyBERT sentence-transformers\n",
            "Installing collected packages: pyyaml, tokenizers, sacremoses, huggingface-hub, transformers, sentencepiece, commonmark, colorama, sentence-transformers, rich, KeyBERT\n",
            "  Attempting uninstall: pyyaml\n",
            "    Found existing installation: PyYAML 3.13\n",
            "    Uninstalling PyYAML-3.13:\n",
            "      Successfully uninstalled PyYAML-3.13\n",
            "Successfully installed KeyBERT-0.5.0 colorama-0.4.4 commonmark-0.9.1 huggingface-hub-0.0.19 pyyaml-5.4.1 rich-10.12.0 sacremoses-0.0.46 sentence-transformers-2.1.0 sentencepiece-0.1.96 tokenizers-0.10.3 transformers-4.11.3\n"
          ]
        }
      ]
    },
    {
      "cell_type": "code",
      "metadata": {
        "colab": {
          "base_uri": "https://localhost:8080/",
          "height": 465,
          "referenced_widgets": [
            "9a641028b0e8405595a18fa39f4c776a",
            "2b44bbb9843c4420b0e92a99e2bf0435",
            "20ab739e84244b74bdd07bd3ec0d6fd1",
            "1626eed1a074408490ab848b165df6dc",
            "a48b5d9aaa9d467d8dcdf240f45272b2",
            "66d16d5074624d45be838b10a6f5f0f2",
            "644ae75d945144e8aa9a774c8eb28679",
            "5d1be96d25a041c8b8c4a07826103be6",
            "ffc506c6d25942df9c6bfc4bc195d231",
            "2eaa6cba002244a98c00073441aa0984",
            "4ead6ac024484561811604c4479038a0"
          ]
        },
        "id": "1LYJtSNN0iuK",
        "outputId": "61c22b28-9926-45c8-96a3-93380a30d1d4"
      },
      "source": [
        "from keybert import KeyBERT\n",
        "\n",
        "results = \"\"\"\n",
        "         1 Historic go-ahead for malaria vaccine to protect African children\n",
        "         2 Abu Zubaydah: Top US court to hear test case on state secrecy\n",
        "         3 Prince Andrew to receive Epstein-Giuffre agreement\n",
        "         4 Princess Haya: Dubai ruler had ex-wife's phone hacked - UK court\n",
        "         5 Search for cause in California beach oil spill\n",
        "         6 Debt ceiling: Is the US about to overshoot its debt limit?\n",
        "         7 Squid Game: Netflix to edit out key phone number from gory series\n",
        "         8 Pakistan earthquake kills 15\n",
        "         9 Opioid crisis: US pharmacies face moment of truth as trial begins\n",
        "         10 Joyce Echaquan: Racism played role in death, coroner finds\n",
        "      \"\"\"\n",
        "kw_model = KeyBERT()kw_model.extract_keywords(doc, keyphrase_ngram_range=(1, 2), stop_words=None)\n",
        "keywords = kw_model.extract_keywords(results)\n"
      ],
      "execution_count": 8,
      "outputs": [
        {
          "output_type": "display_data",
          "data": {
            "application/vnd.jupyter.widget-view+json": {
              "model_id": "9a641028b0e8405595a18fa39f4c776a",
              "version_minor": 0,
              "version_major": 2
            },
            "text/plain": [
              "Downloading:   0%|          | 0.00/1.18k [00:00<?, ?B/s]"
            ]
          },
          "metadata": {}
        },
        {
          "output_type": "display_data",
          "data": {
            "application/vnd.jupyter.widget-view+json": {
              "model_id": "1cb6c266676147a4976e818461f71b7c",
              "version_minor": 0,
              "version_major": 2
            },
            "text/plain": [
              "Downloading:   0%|          | 0.00/10.2k [00:00<?, ?B/s]"
            ]
          },
          "metadata": {}
        },
        {
          "output_type": "display_data",
          "data": {
            "application/vnd.jupyter.widget-view+json": {
              "model_id": "036e5114c5774a77a94cfdc1cbb7f0e2",
              "version_minor": 0,
              "version_major": 2
            },
            "text/plain": [
              "Downloading:   0%|          | 0.00/612 [00:00<?, ?B/s]"
            ]
          },
          "metadata": {}
        },
        {
          "output_type": "display_data",
          "data": {
            "application/vnd.jupyter.widget-view+json": {
              "model_id": "0ccb9655a3a24a8ab921a2f4c18993b4",
              "version_minor": 0,
              "version_major": 2
            },
            "text/plain": [
              "Downloading:   0%|          | 0.00/116 [00:00<?, ?B/s]"
            ]
          },
          "metadata": {}
        },
        {
          "output_type": "display_data",
          "data": {
            "application/vnd.jupyter.widget-view+json": {
              "model_id": "8efb75f4b0bf4ae6bce32fad323a3c19",
              "version_minor": 0,
              "version_major": 2
            },
            "text/plain": [
              "Downloading:   0%|          | 0.00/39.3k [00:00<?, ?B/s]"
            ]
          },
          "metadata": {}
        },
        {
          "output_type": "display_data",
          "data": {
            "application/vnd.jupyter.widget-view+json": {
              "model_id": "d4ed1dbe1ff34f128dd3ea41cc1ed570",
              "version_minor": 0,
              "version_major": 2
            },
            "text/plain": [
              "Downloading:   0%|          | 0.00/349 [00:00<?, ?B/s]"
            ]
          },
          "metadata": {}
        },
        {
          "output_type": "display_data",
          "data": {
            "application/vnd.jupyter.widget-view+json": {
              "model_id": "d8e288cfd3844da7b73a23dc07eb098e",
              "version_minor": 0,
              "version_major": 2
            },
            "text/plain": [
              "Downloading:   0%|          | 0.00/90.9M [00:00<?, ?B/s]"
            ]
          },
          "metadata": {}
        },
        {
          "output_type": "display_data",
          "data": {
            "application/vnd.jupyter.widget-view+json": {
              "model_id": "f00d3dc0f53a4e978312a5e99f450f13",
              "version_minor": 0,
              "version_major": 2
            },
            "text/plain": [
              "Downloading:   0%|          | 0.00/53.0 [00:00<?, ?B/s]"
            ]
          },
          "metadata": {}
        },
        {
          "output_type": "display_data",
          "data": {
            "application/vnd.jupyter.widget-view+json": {
              "model_id": "eee60c1c83aa44e3a6235fb574c92ea3",
              "version_minor": 0,
              "version_major": 2
            },
            "text/plain": [
              "Downloading:   0%|          | 0.00/112 [00:00<?, ?B/s]"
            ]
          },
          "metadata": {}
        },
        {
          "output_type": "display_data",
          "data": {
            "application/vnd.jupyter.widget-view+json": {
              "model_id": "55c5e17e0a4c47cbb5b7b60901e5a090",
              "version_minor": 0,
              "version_major": 2
            },
            "text/plain": [
              "Downloading:   0%|          | 0.00/466k [00:00<?, ?B/s]"
            ]
          },
          "metadata": {}
        },
        {
          "output_type": "display_data",
          "data": {
            "application/vnd.jupyter.widget-view+json": {
              "model_id": "b917d479313b4579a7ac454d4a7f86b1",
              "version_minor": 0,
              "version_major": 2
            },
            "text/plain": [
              "Downloading:   0%|          | 0.00/350 [00:00<?, ?B/s]"
            ]
          },
          "metadata": {}
        },
        {
          "output_type": "display_data",
          "data": {
            "application/vnd.jupyter.widget-view+json": {
              "model_id": "309312127172415985507786dce64a58",
              "version_minor": 0,
              "version_major": 2
            },
            "text/plain": [
              "Downloading:   0%|          | 0.00/13.2k [00:00<?, ?B/s]"
            ]
          },
          "metadata": {}
        },
        {
          "output_type": "display_data",
          "data": {
            "application/vnd.jupyter.widget-view+json": {
              "model_id": "900cd666f32e49aaa472404279070aaa",
              "version_minor": 0,
              "version_major": 2
            },
            "text/plain": [
              "Downloading:   0%|          | 0.00/232k [00:00<?, ?B/s]"
            ]
          },
          "metadata": {}
        },
        {
          "output_type": "display_data",
          "data": {
            "application/vnd.jupyter.widget-view+json": {
              "model_id": "5894a2e0ef0742c99d8edbb46df5f4be",
              "version_minor": 0,
              "version_major": 2
            },
            "text/plain": [
              "Downloading:   0%|          | 0.00/190 [00:00<?, ?B/s]"
            ]
          },
          "metadata": {}
        }
      ]
    },
    {
      "cell_type": "markdown",
      "metadata": {
        "id": "iQWh5t-y4ZSc"
      },
      "source": [
        "**set the length of the resulting keywords** "
      ]
    },
    {
      "cell_type": "code",
      "metadata": {
        "colab": {
          "base_uri": "https://localhost:8080/"
        },
        "id": "2sNB_hkL13Cr",
        "outputId": "1172dfe8-854b-452a-a02f-fb25d83337e2"
      },
      "source": [
        "kw_model.extract_keywords(results, keyphrase_ngram_range=(1, 1), stop_words=None)"
      ],
      "execution_count": 9,
      "outputs": [
        {
          "output_type": "execute_result",
          "data": {
            "text/plain": [
              "[('coroner', 0.3194),\n",
              " ('netflix', 0.3156),\n",
              " ('court', 0.3055),\n",
              " ('trial', 0.2889),\n",
              " ('abu', 0.2782)]"
            ]
          },
          "metadata": {},
          "execution_count": 9
        }
      ]
    },
    {
      "cell_type": "markdown",
      "metadata": {
        "id": "Qqe1VfUU5Vmz"
      },
      "source": [
        "**To extract keyphrases, simply set(1,3)** "
      ]
    },
    {
      "cell_type": "code",
      "metadata": {
        "colab": {
          "base_uri": "https://localhost:8080/"
        },
        "id": "HODR4acr2k84",
        "outputId": "75efb43c-8531-4b00-ed8d-5a4b4a525d3e"
      },
      "source": [
        "kw_model.extract_keywords(results, keyphrase_ngram_range=(1, 3), stop_words=None)"
      ],
      "execution_count": 18,
      "outputs": [
        {
          "output_type": "execute_result",
          "data": {
            "text/plain": [
              "[('trial begins 10', 0.3636),\n",
              " ('us court', 0.3517),\n",
              " ('us court to', 0.3487),\n",
              " ('as trial begins', 0.3444),\n",
              " ('crisis us pharmacies', 0.3412)]"
            ]
          },
          "metadata": {},
          "execution_count": 18
        }
      ]
    },
    {
      "cell_type": "markdown",
      "metadata": {
        "id": "uQ7NbRlf5Wt3"
      },
      "source": [
        "**highlight the keywords in the document**"
      ]
    },
    {
      "cell_type": "code",
      "metadata": {
        "colab": {
          "base_uri": "https://localhost:8080/",
          "height": 129
        },
        "id": "_70cbSY93j8k",
        "outputId": "2b551b9d-3619-4ff3-907a-15efc91163c7"
      },
      "source": [
        "keywords = kw_model.extract_keywords(results, highlight=True)\n"
      ],
      "execution_count": 15,
      "outputs": [
        {
          "output_type": "display_data",
          "data": {
            "text/html": [
              "<pre style=\"white-space:pre;overflow-x:auto;line-height:normal;font-family:Menlo,'DejaVu Sans Mono',consolas,'Courier New',monospace\">1 Historic go-ahead for malaria vaccine to protect African children 2 <span style=\"color: #000000; text-decoration-color: #000000; background-color: #ffff00\">Abu</span> Zubaydah: Top US \n",
              "<span style=\"color: #000000; text-decoration-color: #000000; background-color: #ffff00\">court</span> to hear test case on state secrecy 3 Prince Andrew to receive Epstein-Giuffre agreement\n",
              "4 Princess Haya: Dubai ruler had ex-wife's phone hacked - UK <span style=\"color: #000000; text-decoration-color: #000000; background-color: #ffff00\">court</span> 5 Search for cause in \n",
              "California beach oil spill 6 Debt ceiling: Is the US about to overshoot its debt limit? 7 \n",
              "Squid Game: <span style=\"color: #000000; text-decoration-color: #000000; background-color: #ffff00\">Netflix</span> to edit out key phone number from gory series 8 Pakistan earthquake kills\n",
              "15 9 Opioid crisis: US pharmacies face moment of truth as <span style=\"color: #000000; text-decoration-color: #000000; background-color: #ffff00\">trial</span> begins 10 Joyce Echaquan: \n",
              "Racism played role in death, <span style=\"color: #000000; text-decoration-color: #000000; background-color: #ffff00\">coroner</span> finds\n",
              "</pre>\n"
            ],
            "text/plain": [
              "1 Historic go-ahead for malaria vaccine to protect African children 2 \u001b[30;48;2;255;255;0mAbu\u001b[0m Zubaydah: Top US \n",
              "\u001b[30;48;2;255;255;0mcourt\u001b[0m to hear test case on state secrecy 3 Prince Andrew to receive Epstein-Giuffre agreement\n",
              "4 Princess Haya: Dubai ruler had ex-wife's phone hacked - UK \u001b[30;48;2;255;255;0mcourt\u001b[0m 5 Search for cause in \n",
              "California beach oil spill 6 Debt ceiling: Is the US about to overshoot its debt limit? 7 \n",
              "Squid Game: \u001b[30;48;2;255;255;0mNetflix\u001b[0m to edit out key phone number from gory series 8 Pakistan earthquake kills\n",
              "15 9 Opioid crisis: US pharmacies face moment of truth as \u001b[30;48;2;255;255;0mtrial\u001b[0m begins 10 Joyce Echaquan: \n",
              "Racism played role in death, \u001b[30;48;2;255;255;0mcoroner\u001b[0m finds\n"
            ]
          },
          "metadata": {}
        }
      ]
    },
    {
      "cell_type": "markdown",
      "metadata": {
        "id": "JGe5njPZ5Ydn"
      },
      "source": [
        "**we take the 2 x top 5 most similar words/phrases to the document. Then, we take all top_n combinations from the 2 x top 5 words and extract the combination that are the least similar to each other by cosine similarity.\n",
        "\n",
        "\n",
        "**"
      ]
    },
    {
      "cell_type": "code",
      "metadata": {
        "colab": {
          "base_uri": "https://localhost:8080/"
        },
        "id": "rXp43vYQ3qg7",
        "outputId": "a71b0226-df26-41c9-c7e0-f4f4563afe67"
      },
      "source": [
        "kw_model.extract_keywords(results, keyphrase_ngram_range=(3, 3), stop_words='english', \n",
        "                              use_maxsum=True, nr_candidates=20, top_n=5)"
      ],
      "execution_count": 16,
      "outputs": [
        {
          "output_type": "execute_result",
          "data": {
            "text/plain": [
              "[('joyce echaquan racism', 0.3359),\n",
              " ('search cause california', 0.1994),\n",
              " ('ahead malaria vaccine', 0.1863),\n",
              " ('15 opioid crisis', 0.102),\n",
              " ('hacked uk court', 0.2578)]"
            ]
          },
          "metadata": {},
          "execution_count": 16
        }
      ]
    },
    {
      "cell_type": "markdown",
      "metadata": {
        "id": "B0dRkFRC5ZVr"
      },
      "source": [
        "**Maximal Margin Relevance (MMR) to create keywords / keyphrases which is also based on cosine similarity.The results with high diversity:**"
      ]
    },
    {
      "cell_type": "code",
      "metadata": {
        "colab": {
          "base_uri": "https://localhost:8080/"
        },
        "id": "MCV-M7463q0C",
        "outputId": "fae76305-51d1-46df-b12c-872ca6aa67a1"
      },
      "source": [
        "kw_model.extract_keywords(results, keyphrase_ngram_range=(3, 3), stop_words='english', \n",
        "                              use_mmr=True, diversity=0.7)"
      ],
      "execution_count": 17,
      "outputs": [
        {
          "output_type": "execute_result",
          "data": {
            "text/plain": [
              "[('court search cause', 0.3881),\n",
              " ('malaria vaccine protect', 0.2232),\n",
              " ('15 opioid crisis', 0.2956),\n",
              " ('squid game netflix', 0.2996),\n",
              " ('joyce echaquan racism', 0.2803)]"
            ]
          },
          "metadata": {},
          "execution_count": 17
        }
      ]
    },
    {
      "cell_type": "markdown",
      "metadata": {
        "id": "p58HUwBp5aIy"
      },
      "source": [
        "**The results with low diversity**"
      ]
    },
    {
      "cell_type": "code",
      "metadata": {
        "colab": {
          "base_uri": "https://localhost:8080/"
        },
        "id": "vBbwAZ7_3q33",
        "outputId": "9b9561cd-315b-44a9-8a8d-15a3340365bc"
      },
      "source": [
        "kw_model.extract_keywords(results, keyphrase_ngram_range=(3, 3), stop_words='english', \n",
        "                              use_mmr=True, diversity=0.2)"
      ],
      "execution_count": 14,
      "outputs": [
        {
          "output_type": "execute_result",
          "data": {
            "text/plain": [
              "[('court search cause', 0.3881),\n",
              " ('ahead malaria vaccine', 0.2885),\n",
              " ('15 opioid crisis', 0.2956),\n",
              " ('truth trial begins', 0.3681),\n",
              " ('secrecy prince andrew', 0.3318)]"
            ]
          },
          "metadata": {},
          "execution_count": 14
        }
      ]
    },
    {
      "cell_type": "code",
      "metadata": {
        "id": "AqFam5u1757t"
      },
      "source": [
        ""
      ],
      "execution_count": null,
      "outputs": []
    }
  ]
}